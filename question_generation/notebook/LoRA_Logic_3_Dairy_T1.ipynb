{
 "cells": [
  {
   "cell_type": "code",
   "execution_count": 1,
   "id": "59dc7a12",
   "metadata": {},
   "outputs": [],
   "source": [
    "import numpy as np\n",
    "import pandas as pd\n",
    "import random\n",
    "import ast\n",
    "from pprint import pprint\n",
    "from collections import Counter\n",
    "import re\n",
    "import warnings\n",
    "warnings.filterwarnings(\"ignore\")\n",
    "pd.set_option('display.max_columns', None)\n",
    "pd.set_option('display.max_colwidth', None)\n",
    "pd.set_option('display.max_rows', None)"
   ]
  },
  {
   "cell_type": "markdown",
   "id": "600a45e3",
   "metadata": {
    "heading_collapsed": true
   },
   "source": [
    "## Data Statistic"
   ]
  },
  {
   "cell_type": "markdown",
   "id": "403c6f61",
   "metadata": {
    "heading_collapsed": true,
    "hidden": true
   },
   "source": [
    "### Logic_3_Dairy_T1"
   ]
  },
  {
   "cell_type": "code",
   "execution_count": 2,
   "id": "b9dbd91c",
   "metadata": {
    "hidden": true
   },
   "outputs": [
    {
     "name": "stdout",
     "output_type": "stream",
     "text": [
      "(20832, 8)\n"
     ]
    }
   ],
   "source": [
    "l3_ques_dairy_t1 = pd.read_csv(\"/home/jingying/git_paper_1/diverse_questions/lr_questions_rose/questions_l3_Dairy/question_results_dairy_t1.csv\")\n",
    "print(l3_ques_dairy_t1.shape)"
   ]
  },
  {
   "cell_type": "code",
   "execution_count": 9,
   "id": "fe52b8b2",
   "metadata": {
    "hidden": true
   },
   "outputs": [
    {
     "data": {
      "text/html": [
       "<div>\n",
       "<style scoped>\n",
       "    .dataframe tbody tr th:only-of-type {\n",
       "        vertical-align: middle;\n",
       "    }\n",
       "\n",
       "    .dataframe tbody tr th {\n",
       "        vertical-align: top;\n",
       "    }\n",
       "\n",
       "    .dataframe thead th {\n",
       "        text-align: right;\n",
       "    }\n",
       "</style>\n",
       "<table border=\"1\" class=\"dataframe\">\n",
       "  <thead>\n",
       "    <tr style=\"text-align: right;\">\n",
       "      <th></th>\n",
       "      <th>Question</th>\n",
       "      <th>questions_nlp</th>\n",
       "      <th>a1</th>\n",
       "      <th>a2</th>\n",
       "      <th>a3</th>\n",
       "      <th>fa</th>\n",
       "      <th>logical_operator</th>\n",
       "      <th>logical_level</th>\n",
       "      <th>logical_types</th>\n",
       "    </tr>\n",
       "  </thead>\n",
       "  <tbody>\n",
       "    <tr>\n",
       "      <th>0</th>\n",
       "      <td>Which fruit has_taste bitter and has_color green and not has_shape long?</td>\n",
       "      <td>Which fruit in the image tastes like bitter and shows the color green and not appears in shape long?</td>\n",
       "      <td>[]</td>\n",
       "      <td>['apple', 'lime', 'watermelon', 'pear', 'grape']</td>\n",
       "      <td>['orange', 'tomato', 'apple', 'lemon', 'plum', 'lime', 'watermelon', 'pear', 'grape']</td>\n",
       "      <td>None</td>\n",
       "      <td>and, not</td>\n",
       "      <td>level 3</td>\n",
       "      <td>conjunction, negation</td>\n",
       "    </tr>\n",
       "    <tr>\n",
       "      <th>1</th>\n",
       "      <td>Which fruit has_taste bitter or has_color green and not has_shape round?</td>\n",
       "      <td>Identify the fruit in the image that tastes like bitter or is colored green and is not shaped round?</td>\n",
       "      <td>[]</td>\n",
       "      <td>['apple', 'lime', 'watermelon', 'pear', 'grape']</td>\n",
       "      <td>['banana', 'watermelon', 'pear']</td>\n",
       "      <td>watermelon, pear</td>\n",
       "      <td>and, or, not</td>\n",
       "      <td>level 3</td>\n",
       "      <td>conjunction, disjunction, negation</td>\n",
       "    </tr>\n",
       "  </tbody>\n",
       "</table>\n",
       "</div>"
      ],
      "text/plain": [
       "                                                                   Question  \\\n",
       "0  Which fruit has_taste bitter and has_color green and not has_shape long?   \n",
       "1  Which fruit has_taste bitter or has_color green and not has_shape round?   \n",
       "\n",
       "                                                                                          questions_nlp  \\\n",
       "0  Which fruit in the image tastes like bitter and shows the color green and not appears in shape long?   \n",
       "1  Identify the fruit in the image that tastes like bitter or is colored green and is not shaped round?   \n",
       "\n",
       "   a1                                                a2  \\\n",
       "0  []  ['apple', 'lime', 'watermelon', 'pear', 'grape']   \n",
       "1  []  ['apple', 'lime', 'watermelon', 'pear', 'grape']   \n",
       "\n",
       "                                                                                      a3  \\\n",
       "0  ['orange', 'tomato', 'apple', 'lemon', 'plum', 'lime', 'watermelon', 'pear', 'grape']   \n",
       "1                                                       ['banana', 'watermelon', 'pear']   \n",
       "\n",
       "                 fa logical_operator logical_level  \\\n",
       "0              None         and, not       level 3   \n",
       "1  watermelon, pear     and, or, not       level 3   \n",
       "\n",
       "                        logical_types  \n",
       "0               conjunction, negation  \n",
       "1  conjunction, disjunction, negation  "
      ]
     },
     "execution_count": 9,
     "metadata": {},
     "output_type": "execute_result"
    }
   ],
   "source": [
    "l3_ques_dairy_t1[:2]"
   ]
  },
  {
   "cell_type": "code",
   "execution_count": 10,
   "id": "dbb3181e",
   "metadata": {
    "hidden": true
   },
   "outputs": [
    {
     "name": "stdout",
     "output_type": "stream",
     "text": [
      "(20832, 9)\n"
     ]
    }
   ],
   "source": [
    "diverse_dairy_t1 = pd.read_csv(\"/home/jingying/git_paper_1/diverse_questions/lr_questions_rose/questions_diverse/diverse_question_dairy_1.csv\")\n",
    "print(diverse_dairy_t1.shape)"
   ]
  },
  {
   "cell_type": "code",
   "execution_count": 11,
   "id": "566a8752",
   "metadata": {
    "hidden": true
   },
   "outputs": [
    {
     "data": {
      "text/html": [
       "<div>\n",
       "<style scoped>\n",
       "    .dataframe tbody tr th:only-of-type {\n",
       "        vertical-align: middle;\n",
       "    }\n",
       "\n",
       "    .dataframe tbody tr th {\n",
       "        vertical-align: top;\n",
       "    }\n",
       "\n",
       "    .dataframe thead th {\n",
       "        text-align: right;\n",
       "    }\n",
       "</style>\n",
       "<table border=\"1\" class=\"dataframe\">\n",
       "  <thead>\n",
       "    <tr style=\"text-align: right;\">\n",
       "      <th></th>\n",
       "      <th>Question</th>\n",
       "      <th>questions_nlp</th>\n",
       "      <th>a1</th>\n",
       "      <th>a2</th>\n",
       "      <th>a3</th>\n",
       "      <th>fa</th>\n",
       "      <th>logical_operator</th>\n",
       "      <th>logical_level</th>\n",
       "      <th>logical_types</th>\n",
       "    </tr>\n",
       "  </thead>\n",
       "  <tbody>\n",
       "    <tr>\n",
       "      <th>0</th>\n",
       "      <td>Which dairy has_taste bitter and not has_color green and not has_nutrition protein?</td>\n",
       "      <td>How many dairy items on the table hold a flavor of bitter and do not show the color green and do not have nutritional content of protein?</td>\n",
       "      <td>[]</td>\n",
       "      <td>['egg', 'yoghurt', 'cheese', 'milk']</td>\n",
       "      <td>[]</td>\n",
       "      <td>None</td>\n",
       "      <td>and, not</td>\n",
       "      <td>level 3</td>\n",
       "      <td>conjunction, negation</td>\n",
       "    </tr>\n",
       "    <tr>\n",
       "      <th>1</th>\n",
       "      <td>Which dairy has_taste bitter or not has_color green or has_nutrition fat?</td>\n",
       "      <td>Is there any dairy in the image has a taste of bitter or is not colored green or contains nutrition fat?</td>\n",
       "      <td>[]</td>\n",
       "      <td>['egg', 'yoghurt', 'cheese', 'milk']</td>\n",
       "      <td>['yoghurt', 'cheese', 'milk']</td>\n",
       "      <td>milk, egg, cheese, yogurt</td>\n",
       "      <td>or, not</td>\n",
       "      <td>level 3</td>\n",
       "      <td>disjunction, negation</td>\n",
       "    </tr>\n",
       "  </tbody>\n",
       "</table>\n",
       "</div>"
      ],
      "text/plain": [
       "                                                                              Question  \\\n",
       "0  Which dairy has_taste bitter and not has_color green and not has_nutrition protein?   \n",
       "1            Which dairy has_taste bitter or not has_color green or has_nutrition fat?   \n",
       "\n",
       "                                                                                                                               questions_nlp  \\\n",
       "0  How many dairy items on the table hold a flavor of bitter and do not show the color green and do not have nutritional content of protein?   \n",
       "1                                   Is there any dairy in the image has a taste of bitter or is not colored green or contains nutrition fat?   \n",
       "\n",
       "   a1                                    a2                             a3  \\\n",
       "0  []  ['egg', 'yoghurt', 'cheese', 'milk']                             []   \n",
       "1  []  ['egg', 'yoghurt', 'cheese', 'milk']  ['yoghurt', 'cheese', 'milk']   \n",
       "\n",
       "                          fa logical_operator logical_level  \\\n",
       "0                       None         and, not       level 3   \n",
       "1  milk, egg, cheese, yogurt          or, not       level 3   \n",
       "\n",
       "           logical_types  \n",
       "0  conjunction, negation  \n",
       "1  disjunction, negation  "
      ]
     },
     "execution_count": 11,
     "metadata": {},
     "output_type": "execute_result"
    }
   ],
   "source": [
    "diverse_dairy_t1[:2]"
   ]
  },
  {
   "cell_type": "code",
   "execution_count": 12,
   "id": "37f7ea25",
   "metadata": {
    "hidden": true
   },
   "outputs": [
    {
     "name": "stdout",
     "output_type": "stream",
     "text": [
      "(20832, 9)\n",
      "(7752, 9)\n",
      "(6249, 9)\n",
      "(2916, 9)\n"
     ]
    }
   ],
   "source": [
    "## Group different types of questions\n",
    "\n",
    "df = diverse_dairy_t1.copy()\n",
    "print(df.shape)\n",
    "\n",
    "df_howmany = df[df['questions_nlp'].str.contains('how many', case=False, na=False)]\n",
    "df_exist = df[df['questions_nlp'].str.contains('are there|is there', case=False, na=False, regex=True)]\n",
    "df_universal = df[df['questions_nlp'].str.contains('do all|for all', case=False, na=False, regex=True)]\n",
    "\n",
    "print(df_howmany.shape)\n",
    "print(df_exist.shape)\n",
    "print(df_universal.shape)"
   ]
  },
  {
   "cell_type": "code",
   "execution_count": 13,
   "id": "9a6f3943",
   "metadata": {
    "hidden": true
   },
   "outputs": [
    {
     "name": "stdout",
     "output_type": "stream",
     "text": [
      "(3737, 9)\n",
      "(4015, 9)\n"
     ]
    }
   ],
   "source": [
    "# Filter Fruit where 'fa' is not 'None'\n",
    "df_howmany_values = df_howmany[df_howmany['fa'] != 'None']\n",
    "df_howmany_none = df_howmany[df_howmany['fa'] == 'None']\n",
    "\n",
    "print(df_howmany_values.shape)\n",
    "print(df_howmany_none.shape)"
   ]
  },
  {
   "cell_type": "code",
   "execution_count": 14,
   "id": "adac9f4b",
   "metadata": {
    "hidden": true
   },
   "outputs": [
    {
     "name": "stdout",
     "output_type": "stream",
     "text": [
      "(2990, 9)\n",
      "(3259, 9)\n"
     ]
    }
   ],
   "source": [
    "# Filter Fruit where 'fa' is not 'None'\n",
    "df_exist_values = df_exist[df_exist['fa'] != 'None']\n",
    "df_exist_none = df_exist[df_exist['fa'] == 'None']\n",
    "\n",
    "print(df_exist_values.shape)\n",
    "print(df_exist_none.shape)"
   ]
  },
  {
   "cell_type": "code",
   "execution_count": 15,
   "id": "1b85e12c",
   "metadata": {
    "hidden": true
   },
   "outputs": [
    {
     "name": "stdout",
     "output_type": "stream",
     "text": [
      "(1388, 9)\n",
      "(1528, 9)\n"
     ]
    }
   ],
   "source": [
    "# Filter Fruit where 'fa' is not 'None'\n",
    "df_universal_values = df_universal[df_universal['fa'] != 'None']\n",
    "df_universal_none = df_universal[df_universal['fa'] == 'None']\n",
    "\n",
    "print(df_universal_values.shape)\n",
    "print(df_universal_none.shape)"
   ]
  },
  {
   "cell_type": "code",
   "execution_count": null,
   "id": "f00a0b3e",
   "metadata": {
    "hidden": true
   },
   "outputs": [],
   "source": []
  },
  {
   "cell_type": "markdown",
   "id": "6c8dc0b6",
   "metadata": {
    "heading_collapsed": true,
    "hidden": true
   },
   "source": [
    "### Logic_3_Dairy_T2"
   ]
  },
  {
   "cell_type": "code",
   "execution_count": 21,
   "id": "721a703f",
   "metadata": {
    "hidden": true
   },
   "outputs": [
    {
     "name": "stdout",
     "output_type": "stream",
     "text": [
      "(1588, 8)\n"
     ]
    }
   ],
   "source": [
    "l3_ques_dairy_t2 = pd.read_csv(\"/home/jingying/git_paper_1/diverse_questions/lr_questions_rose/questions_l3_Dairy/question_results_dairy_t2.csv\")\n",
    "print(l3_ques_dairy_t2.shape)"
   ]
  },
  {
   "cell_type": "code",
   "execution_count": 22,
   "id": "ebf573ee",
   "metadata": {
    "hidden": true
   },
   "outputs": [
    {
     "data": {
      "text/html": [
       "<div>\n",
       "<style scoped>\n",
       "    .dataframe tbody tr th:only-of-type {\n",
       "        vertical-align: middle;\n",
       "    }\n",
       "\n",
       "    .dataframe tbody tr th {\n",
       "        vertical-align: top;\n",
       "    }\n",
       "\n",
       "    .dataframe thead th {\n",
       "        text-align: right;\n",
       "    }\n",
       "</style>\n",
       "<table border=\"1\" class=\"dataframe\">\n",
       "  <thead>\n",
       "    <tr style=\"text-align: right;\">\n",
       "      <th></th>\n",
       "      <th>questions</th>\n",
       "      <th>a1</th>\n",
       "      <th>a2</th>\n",
       "      <th>a3</th>\n",
       "      <th>fa</th>\n",
       "      <th>logical_operator</th>\n",
       "      <th>logical_level</th>\n",
       "      <th>logical_types</th>\n",
       "    </tr>\n",
       "  </thead>\n",
       "  <tbody>\n",
       "    <tr>\n",
       "      <th>0</th>\n",
       "      <td>Which dairy on the table tastes like bitter and is not colored green or has at least three nutritions?</td>\n",
       "      <td>[]</td>\n",
       "      <td>['egg', 'yoghurt', 'cheese', 'milk']</td>\n",
       "      <td>['yoghurt', 'cheese', 'milk']</td>\n",
       "      <td>milk, cheese, yogurt</td>\n",
       "      <td>and, or, not</td>\n",
       "      <td>level 3</td>\n",
       "      <td>conjunction, disjunction, negation</td>\n",
       "    </tr>\n",
       "    <tr>\n",
       "      <th>1</th>\n",
       "      <td>Identify the dairy in the image that has a taste of bitter or is not colored red and does not have at least three nutritions?</td>\n",
       "      <td>[]</td>\n",
       "      <td>['egg', 'yoghurt', 'cheese', 'milk']</td>\n",
       "      <td>['egg']</td>\n",
       "      <td>milk, cheese, yogurt</td>\n",
       "      <td>and, or, not</td>\n",
       "      <td>level 3</td>\n",
       "      <td>conjunction, disjunction, negation</td>\n",
       "    </tr>\n",
       "  </tbody>\n",
       "</table>\n",
       "</div>"
      ],
      "text/plain": [
       "                                                                                                                       questions  \\\n",
       "0                         Which dairy on the table tastes like bitter and is not colored green or has at least three nutritions?   \n",
       "1  Identify the dairy in the image that has a taste of bitter or is not colored red and does not have at least three nutritions?   \n",
       "\n",
       "   a1                                    a2                             a3  \\\n",
       "0  []  ['egg', 'yoghurt', 'cheese', 'milk']  ['yoghurt', 'cheese', 'milk']   \n",
       "1  []  ['egg', 'yoghurt', 'cheese', 'milk']                        ['egg']   \n",
       "\n",
       "                     fa logical_operator logical_level  \\\n",
       "0  milk, cheese, yogurt     and, or, not       level 3   \n",
       "1  milk, cheese, yogurt     and, or, not       level 3   \n",
       "\n",
       "                        logical_types  \n",
       "0  conjunction, disjunction, negation  \n",
       "1  conjunction, disjunction, negation  "
      ]
     },
     "execution_count": 22,
     "metadata": {},
     "output_type": "execute_result"
    }
   ],
   "source": [
    "l3_ques_dairy_t2[:2]"
   ]
  },
  {
   "cell_type": "code",
   "execution_count": 23,
   "id": "4598f2e2",
   "metadata": {
    "hidden": true
   },
   "outputs": [
    {
     "name": "stdout",
     "output_type": "stream",
     "text": [
      "(1588, 9)\n"
     ]
    }
   ],
   "source": [
    "diverse_dairy_t2 = pd.read_csv(\"/home/jingying/git_paper_1/diverse_questions/lr_questions_rose/questions_diverse/diverse_question_dairy_2.csv\")\n",
    "print(diverse_dairy_t2.shape)"
   ]
  },
  {
   "cell_type": "code",
   "execution_count": 25,
   "id": "22fade82",
   "metadata": {
    "hidden": true
   },
   "outputs": [
    {
     "data": {
      "text/html": [
       "<div>\n",
       "<style scoped>\n",
       "    .dataframe tbody tr th:only-of-type {\n",
       "        vertical-align: middle;\n",
       "    }\n",
       "\n",
       "    .dataframe tbody tr th {\n",
       "        vertical-align: top;\n",
       "    }\n",
       "\n",
       "    .dataframe thead th {\n",
       "        text-align: right;\n",
       "    }\n",
       "</style>\n",
       "<table border=\"1\" class=\"dataframe\">\n",
       "  <thead>\n",
       "    <tr style=\"text-align: right;\">\n",
       "      <th></th>\n",
       "      <th>Question</th>\n",
       "      <th>questions_nlp</th>\n",
       "      <th>a1</th>\n",
       "      <th>a2</th>\n",
       "      <th>a3</th>\n",
       "      <th>fa</th>\n",
       "      <th>logical_operator</th>\n",
       "      <th>logical_level</th>\n",
       "      <th>logical_types</th>\n",
       "    </tr>\n",
       "  </thead>\n",
       "  <tbody>\n",
       "    <tr>\n",
       "      <th>0</th>\n",
       "      <td>Which dairy has_taste bitter and not has_color green or has at least three nutritions?</td>\n",
       "      <td>Is there any dairy on the table tastes like bitter and is not colored green or has at least three nutritions?</td>\n",
       "      <td>[]</td>\n",
       "      <td>['egg', 'yoghurt', 'cheese', 'milk']</td>\n",
       "      <td>['yoghurt', 'cheese', 'milk']</td>\n",
       "      <td>milk, cheese, yogurt</td>\n",
       "      <td>and, or, not</td>\n",
       "      <td>level 3</td>\n",
       "      <td>conjunction, disjunction, negation</td>\n",
       "    </tr>\n",
       "    <tr>\n",
       "      <th>1</th>\n",
       "      <td>Which dairy has_taste bitter or not has_color red and not has at least three nutritions?</td>\n",
       "      <td>Is there any dairy in the image that has a taste of bitter or is not colored red and does not have at least three nutritions?</td>\n",
       "      <td>[]</td>\n",
       "      <td>['egg', 'yoghurt', 'cheese', 'milk']</td>\n",
       "      <td>['egg']</td>\n",
       "      <td>milk, cheese, yogurt</td>\n",
       "      <td>and, or, not</td>\n",
       "      <td>level 3</td>\n",
       "      <td>conjunction, disjunction, negation</td>\n",
       "    </tr>\n",
       "  </tbody>\n",
       "</table>\n",
       "</div>"
      ],
      "text/plain": [
       "                                                                                   Question  \\\n",
       "0    Which dairy has_taste bitter and not has_color green or has at least three nutritions?   \n",
       "1  Which dairy has_taste bitter or not has_color red and not has at least three nutritions?   \n",
       "\n",
       "                                                                                                                   questions_nlp  \\\n",
       "0                  Is there any dairy on the table tastes like bitter and is not colored green or has at least three nutritions?   \n",
       "1  Is there any dairy in the image that has a taste of bitter or is not colored red and does not have at least three nutritions?   \n",
       "\n",
       "   a1                                    a2                             a3  \\\n",
       "0  []  ['egg', 'yoghurt', 'cheese', 'milk']  ['yoghurt', 'cheese', 'milk']   \n",
       "1  []  ['egg', 'yoghurt', 'cheese', 'milk']                        ['egg']   \n",
       "\n",
       "                     fa logical_operator logical_level  \\\n",
       "0  milk, cheese, yogurt     and, or, not       level 3   \n",
       "1  milk, cheese, yogurt     and, or, not       level 3   \n",
       "\n",
       "                        logical_types  \n",
       "0  conjunction, disjunction, negation  \n",
       "1  conjunction, disjunction, negation  "
      ]
     },
     "execution_count": 25,
     "metadata": {},
     "output_type": "execute_result"
    }
   ],
   "source": [
    "diverse_dairy_t2[:2]"
   ]
  },
  {
   "cell_type": "code",
   "execution_count": 27,
   "id": "baf1eb01",
   "metadata": {
    "hidden": true
   },
   "outputs": [
    {
     "name": "stdout",
     "output_type": "stream",
     "text": [
      "(1588, 9)\n",
      "(592, 9)\n",
      "(476, 9)\n",
      "(222, 9)\n"
     ]
    }
   ],
   "source": [
    "## Group different types of questions\n",
    "\n",
    "df2 = diverse_dairy_t2.copy()\n",
    "print(df2.shape)\n",
    "\n",
    "df2_howmany = df2[df2['questions_nlp'].str.contains('how many', case=False, na=False)]\n",
    "df2_exist = df2[df2['questions_nlp'].str.contains('are there|is there', case=False, na=False, regex=True)]\n",
    "df2_universal = df2[df2['questions_nlp'].str.contains('do all|for all', case=False, na=False, regex=True)]\n",
    "\n",
    "print(df2_howmany.shape)\n",
    "print(df2_exist.shape)\n",
    "print(df2_universal.shape)"
   ]
  },
  {
   "cell_type": "code",
   "execution_count": 28,
   "id": "fc365f3e",
   "metadata": {
    "hidden": true
   },
   "outputs": [
    {
     "name": "stdout",
     "output_type": "stream",
     "text": [
      "(394, 9)\n",
      "(198, 9)\n"
     ]
    }
   ],
   "source": [
    "# Filter Fruit where 'fa' is not 'None'\n",
    "df2_howmany_values = df2_howmany[df2_howmany['fa'] != 'None']\n",
    "df2_howmany_none = df2_howmany[df2_howmany['fa'] == 'None']\n",
    "\n",
    "print(df2_howmany_values.shape)\n",
    "print(df2_howmany_none.shape)"
   ]
  },
  {
   "cell_type": "code",
   "execution_count": 29,
   "id": "49867d7b",
   "metadata": {
    "hidden": true
   },
   "outputs": [
    {
     "name": "stdout",
     "output_type": "stream",
     "text": [
      "(339, 9)\n",
      "(137, 9)\n"
     ]
    }
   ],
   "source": [
    "# Filter Fruit where 'fa' is not 'None'\n",
    "df2_exist_values = df2_exist[df2_exist['fa'] != 'None']\n",
    "df2_exist_none = df2_exist[df2_exist['fa'] == 'None']\n",
    "\n",
    "print(df2_exist_values.shape)\n",
    "print(df2_exist_none.shape)"
   ]
  },
  {
   "cell_type": "code",
   "execution_count": 30,
   "id": "1a0a465f",
   "metadata": {
    "hidden": true
   },
   "outputs": [
    {
     "name": "stdout",
     "output_type": "stream",
     "text": [
      "(142, 9)\n",
      "(80, 9)\n"
     ]
    }
   ],
   "source": [
    "# Filter Fruit where 'fa' is not 'None'\n",
    "df2_universal_values = df2_universal[df2_universal['fa'] != 'None']\n",
    "df2_universal_none = df2_universal[df2_universal['fa'] == 'None']\n",
    "\n",
    "print(df2_universal_values.shape)\n",
    "print(df2_universal_none.shape)"
   ]
  },
  {
   "cell_type": "code",
   "execution_count": null,
   "id": "fa73b287",
   "metadata": {
    "hidden": true
   },
   "outputs": [],
   "source": []
  },
  {
   "cell_type": "markdown",
   "id": "59cfbdbb",
   "metadata": {},
   "source": [
    "## Question Logic_3_Dairy_T1"
   ]
  },
  {
   "cell_type": "markdown",
   "id": "d91a15be",
   "metadata": {},
   "source": [
    "- Images only include values, not None\n",
    "- Odd 500 numbers of images use Background 1 - Lion and Dinasour - Server gao\n",
    "- Even 500 numbers of images use Background 2 - Lion and Dinasour opposite - Server gjy"
   ]
  },
  {
   "cell_type": "markdown",
   "id": "d70d2b84",
   "metadata": {},
   "source": [
    "### Generate Questions T1"
   ]
  },
  {
   "cell_type": "code",
   "execution_count": 4,
   "id": "b4dc8a3e",
   "metadata": {},
   "outputs": [
    {
     "name": "stdout",
     "output_type": "stream",
     "text": [
      "(20832, 8)\n"
     ]
    }
   ],
   "source": [
    "l3_ques_dairy_t1 = pd.read_csv(\"/home/jingying/git_paper_1/diverse_questions/lr_questions_rose/questions_l3_Dairy/question_results_dairy_t1.csv\")\n",
    "print(l3_ques_dairy_t1.shape)"
   ]
  },
  {
   "cell_type": "code",
   "execution_count": 6,
   "id": "9fc57598",
   "metadata": {},
   "outputs": [
    {
     "name": "stdout",
     "output_type": "stream",
     "text": [
      "(20832, 8)\n"
     ]
    }
   ],
   "source": [
    "## Drop duplicates\n",
    "l3_ques_dairy_t1 = l3_ques_dairy_t1.drop_duplicates(subset=['questions'])\n",
    "print(l3_ques_dairy_t1.shape)"
   ]
  },
  {
   "cell_type": "code",
   "execution_count": 4,
   "id": "568e26aa",
   "metadata": {},
   "outputs": [
    {
     "data": {
      "text/html": [
       "<div>\n",
       "<style scoped>\n",
       "    .dataframe tbody tr th:only-of-type {\n",
       "        vertical-align: middle;\n",
       "    }\n",
       "\n",
       "    .dataframe tbody tr th {\n",
       "        vertical-align: top;\n",
       "    }\n",
       "\n",
       "    .dataframe thead th {\n",
       "        text-align: right;\n",
       "    }\n",
       "</style>\n",
       "<table border=\"1\" class=\"dataframe\">\n",
       "  <thead>\n",
       "    <tr style=\"text-align: right;\">\n",
       "      <th></th>\n",
       "      <th>questions</th>\n",
       "      <th>a1</th>\n",
       "      <th>a2</th>\n",
       "      <th>a3</th>\n",
       "      <th>fa</th>\n",
       "      <th>logical_operator</th>\n",
       "      <th>logical_level</th>\n",
       "      <th>logical_types</th>\n",
       "    </tr>\n",
       "  </thead>\n",
       "  <tbody>\n",
       "    <tr>\n",
       "      <th>0</th>\n",
       "      <td>Which dairy on the table holds a flavor of bitter and  does not show the color green and does not have nutritional content of protein?</td>\n",
       "      <td>[]</td>\n",
       "      <td>['egg', 'yoghurt', 'cheese', 'milk']</td>\n",
       "      <td>[]</td>\n",
       "      <td>None</td>\n",
       "      <td>and, not</td>\n",
       "      <td>level 3</td>\n",
       "      <td>conjunction, negation</td>\n",
       "    </tr>\n",
       "    <tr>\n",
       "      <th>1</th>\n",
       "      <td>Which dairy in the image has a taste of bitter or is not colored green or contains nutrition fat?</td>\n",
       "      <td>[]</td>\n",
       "      <td>['egg', 'yoghurt', 'cheese', 'milk']</td>\n",
       "      <td>['yoghurt', 'cheese', 'milk']</td>\n",
       "      <td>milk, egg, cheese, yogurt</td>\n",
       "      <td>or, not</td>\n",
       "      <td>level 3</td>\n",
       "      <td>disjunction, negation</td>\n",
       "    </tr>\n",
       "  </tbody>\n",
       "</table>\n",
       "</div>"
      ],
      "text/plain": [
       "                                                                                                                                questions  \\\n",
       "0  Which dairy on the table holds a flavor of bitter and  does not show the color green and does not have nutritional content of protein?   \n",
       "1                                       Which dairy in the image has a taste of bitter or is not colored green or contains nutrition fat?   \n",
       "\n",
       "   a1                                    a2                             a3  \\\n",
       "0  []  ['egg', 'yoghurt', 'cheese', 'milk']                             []   \n",
       "1  []  ['egg', 'yoghurt', 'cheese', 'milk']  ['yoghurt', 'cheese', 'milk']   \n",
       "\n",
       "                          fa logical_operator logical_level  \\\n",
       "0                       None         and, not       level 3   \n",
       "1  milk, egg, cheese, yogurt          or, not       level 3   \n",
       "\n",
       "           logical_types  \n",
       "0  conjunction, negation  \n",
       "1  disjunction, negation  "
      ]
     },
     "execution_count": 4,
     "metadata": {},
     "output_type": "execute_result"
    }
   ],
   "source": [
    "l3_ques_dairy_t1[:2]"
   ]
  },
  {
   "cell_type": "markdown",
   "id": "e5895894",
   "metadata": {},
   "source": [
    "### Generate Answers T1"
   ]
  },
  {
   "cell_type": "code",
   "execution_count": 6,
   "id": "cba63e47",
   "metadata": {},
   "outputs": [
    {
     "name": "stdout",
     "output_type": "stream",
     "text": [
      "(10027, 8)\n",
      "(10805, 8)\n"
     ]
    }
   ],
   "source": [
    "# Filter Allergy Fruit where 'fa' is not 'None'\n",
    "l3_ques_dairy_t1_values = l3_ques_dairy_t1[l3_ques_dairy_t1['fa'] != 'None']\n",
    "l3_ques_dairy_t1_none = l3_ques_dairy_t1[l3_ques_dairy_t1['fa'] == 'None']\n",
    "\n",
    "print(l3_ques_dairy_t1_values.shape)\n",
    "print(l3_ques_dairy_t1_none.shape)"
   ]
  },
  {
   "cell_type": "markdown",
   "id": "45a5a6cc",
   "metadata": {},
   "source": [
    "### Unique answers distribution T1"
   ]
  },
  {
   "cell_type": "code",
   "execution_count": 7,
   "id": "df58440f",
   "metadata": {},
   "outputs": [
    {
     "name": "stdout",
     "output_type": "stream",
     "text": [
      "Number of rows with values: 10027\n",
      "Number of unique combinations: 23\n",
      "Unique combinations and their counts:\n",
      " cheese, egg, yogurt,milk: 5562\n",
      "egg: 304\n",
      " egg, milk, yogurt,cheese: 877\n",
      " cheese, yogurt,milk: 504\n",
      "cheese: 744\n",
      " egg,milk: 98\n",
      " egg, yogurt,milk: 428\n",
      "milk: 474\n",
      " cheese, yogurt,egg: 299\n",
      " yogurt,cheese: 109\n",
      " cheese,egg: 200\n",
      " yogurt,milk: 244\n",
      " milk,yogurt: 48\n",
      "yogurt: 20\n",
      " cheese, egg,milk: 22\n",
      " cheese,milk: 19\n",
      " egg, milk,yogurt: 1\n",
      " cheese, milk, yogurt,egg: 9\n",
      " egg, yogurt,cheese: 1\n",
      " egg,cheese: 1\n",
      " cheese,yogurt: 30\n",
      " cheese, milk,yogurt: 29\n",
      " yogurt,egg: 4\n"
     ]
    }
   ],
   "source": [
    "# Unique answers distribution\n",
    "\n",
    "def analyze_unique_combinations(df, column_name):\n",
    "\n",
    "    df_filtered = df[df[column_name].notna() & (df[column_name] != '')]\n",
    "\n",
    "    df_filtered['normalized'] = df_filtered[column_name].apply(lambda x: ','.join(sorted(x.split(','))))\n",
    "\n",
    "    unique_combinations = Counter(df_filtered['normalized'])\n",
    "    num_rows_with_values = len(df_filtered)\n",
    "    num_unique_combinations = len(unique_combinations)\n",
    "\n",
    "    return num_rows_with_values, num_unique_combinations, unique_combinations\n",
    "\n",
    "\n",
    "num_values, num_combinations, combinations = analyze_unique_combinations(l3_ques_dairy_t1_visible, 'fa')\n",
    "\n",
    "print(f\"Number of rows with values: {num_values}\")\n",
    "print(f\"Number of unique combinations: {num_combinations}\")\n",
    "print(\"Unique combinations and their counts:\")\n",
    "for combination, count in combinations.items():\n",
    "    print(f\"{combination}: {count}\")"
   ]
  },
  {
   "cell_type": "code",
   "execution_count": 6,
   "id": "4dd41282",
   "metadata": {},
   "outputs": [
    {
     "name": "stdout",
     "output_type": "stream",
     "text": [
      "Number of rows with values: 10027\n",
      "Number of unique combinations: 16\n",
      "Unique combinations and their counts:\n",
      " cheese,milk: 658\n",
      "egg: 479\n",
      " milk,yogurt: 707\n",
      " cheese,yogurt: 666\n",
      " egg,yogurt: 680\n",
      " cheese,egg: 569\n",
      " egg,milk: 650\n",
      " egg,cheese: 532\n",
      " yogurt,milk: 699\n",
      " yogurt,egg: 660\n",
      " yogurt,cheese: 677\n",
      " milk,cheese: 641\n",
      "cheese: 904\n",
      "milk: 671\n",
      " milk,egg: 593\n",
      "yogurt: 241\n"
     ]
    }
   ],
   "source": [
    "# Unique answers distribution\n",
    "\n",
    "def analyze_unique_combinations(df, column_name):\n",
    "\n",
    "    df_filtered = df[df[column_name].notna() & (df[column_name] != '')]\n",
    "\n",
    "    df_filtered['normalized'] = df_filtered[column_name].apply(lambda x: ','.join(sorted(x.split(','))))\n",
    "\n",
    "    unique_combinations = Counter(df_filtered['normalized'])\n",
    "    num_rows_with_values = len(df_filtered)\n",
    "    num_unique_combinations = len(unique_combinations)\n",
    "\n",
    "    return num_rows_with_values, num_unique_combinations, unique_combinations\n",
    "\n",
    "\n",
    "num_values, num_combinations, combinations = analyze_unique_combinations(l3_ques_dairy_t1_visible, 'ground_truth_ans')\n",
    "\n",
    "print(f\"Number of rows with values: {num_values}\")\n",
    "print(f\"Number of unique combinations: {num_combinations}\")\n",
    "print(\"Unique combinations and their counts:\")\n",
    "for combination, count in combinations.items():\n",
    "    print(f\"{combination}: {count}\")"
   ]
  },
  {
   "cell_type": "markdown",
   "id": "6a1cce99",
   "metadata": {},
   "source": [
    "### Generate Visible_object for Blender T1"
   ]
  },
  {
   "cell_type": "code",
   "execution_count": 8,
   "id": "d17c3299",
   "metadata": {},
   "outputs": [
    {
     "name": "stdout",
     "output_type": "stream",
     "text": [
      "(10027, 14)\n"
     ]
    }
   ],
   "source": [
    "# Function to randomly select 10 items\n",
    "def random_select_10(items):\n",
    "    item_list = items.split(', ')\n",
    "    if len(item_list) > 10:\n",
    "        return ', '.join(random.sample(item_list, 10)) \n",
    "    return ', '.join(item_list) \n",
    "\n",
    "\n",
    "# Function to split 'fa' values into two halves\n",
    "def split_fa_values(row):\n",
    "    fa_values = row['answers'].split(', ')\n",
    "    random.shuffle(fa_values)  \n",
    "    mid_point = (len(fa_values) + 1) // 2  \n",
    "    ground_truth_ans = ', '.join(fa_values[:mid_point]) \n",
    "    spatial_exclude_ans = ', '.join(fa_values[mid_point:])  \n",
    "    return ground_truth_ans, spatial_exclude_ans\n",
    "\n",
    "\n",
    "# Generate Blender Visible Data\n",
    "\n",
    "# Define blend_middle and blend_noise sets\n",
    "blend_middle = set(['bread', 'egg', 'meat', 'wine', 'chocolate', 'candy'])\n",
    "\n",
    "blend_noise = set([\n",
    "'bottle','lemon', 'orange', 'grape', 'banana',  \n",
    "'cheese', 'onion', 'tomato', 'carrot', 'eggplant', 'pumpkin', 'mushroom',\n",
    "'cucumber', 'pepper', 'garlic', 'watermelon', 'avocado', 'potato', 'plum', \n",
    "'lime', 'yogurt', 'milk', 'asparagus', 'broccoli', 'leek', \n",
    "'capsicum', 'chilli', 'zucchini','cabbage', 'lettuce', 'springonion', 'parsley', 'pear', 'apple' ])\n",
    "\n",
    "def add_objects(row):\n",
    "    fa_values = row['fa']\n",
    "    if fa_values == 'None':\n",
    "        fa_set = set()\n",
    "    else:\n",
    "        fa_set = set(fa_values.split(', '))\n",
    "    \n",
    "    ground_truth_ans_set = set(row['ground_truth_ans'].split(', '))\n",
    "    spatial_exclude_ans_set = set(row['spatial_exclude_ans'].split(', '))\n",
    "    \n",
    "    # Remove 'None' from sets\n",
    "    ground_truth_ans_set.discard('None')\n",
    "    \n",
    "    # For available noise objects\n",
    "    available_noise = list(blend_noise - fa_set)\n",
    "    random.shuffle(available_noise)\n",
    "    \n",
    "    # Ground_Truth: For Right_side_object\n",
    "    right_side_object = list(ground_truth_ans_set) + available_noise[:max(0, 5 - len(ground_truth_ans_set))]\n",
    "    right_side_object_str = ', '.join(right_side_object).lstrip(', ')\n",
    "\n",
    "    # Noise_Truth: For Left_side_object\n",
    "    left_side_object = list(spatial_exclude_ans_set) + available_noise[:max(0, 5 - len(spatial_exclude_ans_set))]\n",
    "    left_side_object_str = ', '.join(left_side_object).lstrip(', ')\n",
    "    \n",
    "    # For middle_object\n",
    "    middle_object = random.sample(blend_middle, 1)[0]\n",
    "\n",
    "    return right_side_object_str, left_side_object_str, middle_object\n",
    "\n",
    "def process_data(df, filename):\n",
    "    \n",
    "    full_output_path = f\"{base_path}{filename}_visible_full.csv\"\n",
    "    blend_output_path = f\"{base_path}{filename}_blend.csv\"\n",
    "\n",
    "    # Apply the functions\n",
    "    df['answers'] = df['fa'].apply(random_select_10)\n",
    "    df[['ground_truth_ans', 'spatial_exclude_ans']] = df.apply(split_fa_values, axis=1, result_type='expand')\n",
    "    df[['right_side_object', 'left_side_object', 'middle_object']] = df.apply(add_objects, axis=1, result_type='expand')\n",
    "    blend_df_dairy = df[['right_side_object', 'left_side_object', 'middle_object']]\n",
    "\n",
    "    df.to_csv(full_output_path)\n",
    "    blend_df_dairy.to_csv(blend_output_path)\n",
    "\n",
    "base_path = \"/home/jingying/git_paper_1/diverse_questions/lr_questions_rose/questions_l3_Dairy/\"\n",
    "\n",
    "\n",
    "process_data(l3_ques_dairy_t1_values, \"l3_ques_dairy_t1\")\n",
    "print(l3_ques_dairy_1_values.shape)"
   ]
  },
  {
   "cell_type": "markdown",
   "id": "28ae95e3",
   "metadata": {
    "heading_collapsed": true
   },
   "source": [
    "### Read the generated files T1"
   ]
  },
  {
   "cell_type": "code",
   "execution_count": 3,
   "id": "008e75aa",
   "metadata": {
    "hidden": true
   },
   "outputs": [
    {
     "name": "stdout",
     "output_type": "stream",
     "text": [
      "(10027, 18)\n",
      "(10027, 4)\n"
     ]
    }
   ],
   "source": [
    "l3_ques_dairy_t1_visible = pd.read_csv(\"/home/jingying/git_paper_1/diverse_questions/lr_questions_rose/questions_l3_Dairy/l3_ques_dairy_t1_visible_full.csv\")\n",
    "l3_dairy_t1_col = l3_ques_dairy_t1_visible[['questions', 'fa', 'answers', 'ground_truth_ans', 'spatial_exclude_ans', 'right_side_object', 'left_side_object', 'middle_object']]\n",
    "blend_df_dairy_t1 = pd.read_csv(\"/home/jingying/git_paper_1/diverse_questions/lr_questions_rose/questions_l3_Dairy/l3_ques_dairy_t1_blend.csv\")\n",
    "print(l3_ques_dairy_t1_visible.shape)\n",
    "print(blend_df_dairy_t1.shape)"
   ]
  },
  {
   "cell_type": "code",
   "execution_count": 12,
   "id": "3e768b4b",
   "metadata": {
    "hidden": true
   },
   "outputs": [
    {
     "data": {
      "text/html": [
       "<div>\n",
       "<style scoped>\n",
       "    .dataframe tbody tr th:only-of-type {\n",
       "        vertical-align: middle;\n",
       "    }\n",
       "\n",
       "    .dataframe tbody tr th {\n",
       "        vertical-align: top;\n",
       "    }\n",
       "\n",
       "    .dataframe thead th {\n",
       "        text-align: right;\n",
       "    }\n",
       "</style>\n",
       "<table border=\"1\" class=\"dataframe\">\n",
       "  <thead>\n",
       "    <tr style=\"text-align: right;\">\n",
       "      <th></th>\n",
       "      <th>questions</th>\n",
       "      <th>fa</th>\n",
       "      <th>answers</th>\n",
       "      <th>ground_truth_ans</th>\n",
       "      <th>spatial_exclude_ans</th>\n",
       "      <th>right_side_object</th>\n",
       "      <th>left_side_object</th>\n",
       "      <th>middle_object</th>\n",
       "    </tr>\n",
       "  </thead>\n",
       "  <tbody>\n",
       "    <tr>\n",
       "      <th>7500</th>\n",
       "      <td>Which dairy on the table is nutritious with vitamin C or  does not taste like pungent or does not have a color of green?</td>\n",
       "      <td>cheese, yogurt, milk, egg</td>\n",
       "      <td>cheese, yogurt, milk, egg</td>\n",
       "      <td>cheese, yogurt</td>\n",
       "      <td>milk, egg</td>\n",
       "      <td>cheese, yogurt, asparagus, lemon, pepper</td>\n",
       "      <td>milk, egg, asparagus, lemon, pepper</td>\n",
       "      <td>chocolate</td>\n",
       "    </tr>\n",
       "  </tbody>\n",
       "</table>\n",
       "</div>"
      ],
      "text/plain": [
       "                                                                                                                     questions  \\\n",
       "7500  Which dairy on the table is nutritious with vitamin C or  does not taste like pungent or does not have a color of green?   \n",
       "\n",
       "                             fa                    answers ground_truth_ans  \\\n",
       "7500  cheese, yogurt, milk, egg  cheese, yogurt, milk, egg   cheese, yogurt   \n",
       "\n",
       "     spatial_exclude_ans                         right_side_object  \\\n",
       "7500           milk, egg  cheese, yogurt, asparagus, lemon, pepper   \n",
       "\n",
       "                         left_side_object middle_object  \n",
       "7500  milk, egg, asparagus, lemon, pepper     chocolate  "
      ]
     },
     "execution_count": 12,
     "metadata": {},
     "output_type": "execute_result"
    }
   ],
   "source": [
    "l3_dairy_t1_col[7500:7501]"
   ]
  },
  {
   "cell_type": "markdown",
   "id": "88c77c3a",
   "metadata": {
    "heading_collapsed": true
   },
   "source": [
    "### Check blender objects T1"
   ]
  },
  {
   "cell_type": "code",
   "execution_count": 17,
   "id": "a9c80c23",
   "metadata": {
    "hidden": true
   },
   "outputs": [],
   "source": [
    "blend_onto = set([\n",
    "    'bottle','plant', 'lemon', 'orange', 'grape', 'banana', 'pan', 'pot', \n",
    "    'cheese', 'onion', 'candy', 'tomato', 'carrot', 'eggplant', 'pumpkin', 'mushroom',\n",
    "    'cucumber', 'pepper', 'garlic', 'watermelon', 'avocado', 'wine', 'potato', 'plum', \n",
    "    'lime', 'chocolate', 'yogurt', 'milk', 'asparagus', 'broccoli', 'leek', \n",
    "    'capsicum', 'chilli', 'zucchini','cabbage', 'lettuce', 'springonion', 'parsley', 'pear',\n",
    "    'tomatonew', 'GreenPear', 'bread', 'egg', 'meat', 'apple' \n",
    "])"
   ]
  },
  {
   "cell_type": "code",
   "execution_count": 18,
   "id": "02bfa329",
   "metadata": {
    "hidden": true
   },
   "outputs": [
    {
     "name": "stdout",
     "output_type": "stream",
     "text": [
      "['milk', 'egg', 'cheese', 'yogurt']\n"
     ]
    }
   ],
   "source": [
    "# unique values in lr_ques_template \n",
    "df = l3_ques_dairy_1_visible.copy()\n",
    "all_items = df['fa'].str.split(', ').explode()\n",
    "unique_items = all_items.unique()\n",
    "unique_items = list(unique_items)\n",
    "\n",
    "print(unique_items)"
   ]
  },
  {
   "cell_type": "code",
   "execution_count": 19,
   "id": "86d1d9d7",
   "metadata": {
    "hidden": true
   },
   "outputs": [
    {
     "name": "stdout",
     "output_type": "stream",
     "text": [
      "['pepper', 'plum', 'avocado', 'zucchini', 'capsicum', 'leek', 'apple', 'banana', 'chocolate', 'lime', 'GreenPear', 'carrot', 'tomatonew', 'onion', 'cucumber', 'tomato', 'broccoli', 'plant', 'asparagus', 'wine', 'bread', 'pumpkin', 'lemon', 'pan', 'meat', 'garlic', 'chilli', 'candy', 'lettuce', 'grape', 'cabbage', 'potato', 'bottle', 'parsley', 'springonion', 'orange', 'mushroom', 'pot', 'eggplant', 'pear', 'watermelon']\n"
     ]
    }
   ],
   "source": [
    "# Difference between blend_onto and lr_ques_template\n",
    "list1 = unique_items\n",
    "list2 = blend_onto\n",
    "\n",
    "# Finding values in list1 not in list2 and vice versa\n",
    "different_values = set(list1).symmetric_difference(set(list2))\n",
    "\n",
    "# Converting the set to a list for easier usage\n",
    "different_values_list = list(different_values)\n",
    "\n",
    "print(different_values_list)"
   ]
  },
  {
   "cell_type": "code",
   "execution_count": null,
   "id": "6bd3d756",
   "metadata": {
    "hidden": true
   },
   "outputs": [],
   "source": []
  },
  {
   "cell_type": "markdown",
   "id": "5d9b2d1e",
   "metadata": {
    "heading_collapsed": true
   },
   "source": [
    "### Add spatial information to questions - Done\n",
    "\n",
    "- Odd number 0-499, 1000-1499 \n",
    "- Even number 500-1000, 1500-2000\n",
    "- Odd:\n",
    "/home/jingying/LoRA/Images/Vqa_Background_L3_Lion_Dinosaur.blend\n",
    "- Even:\n",
    "/home/jingying/LoRA/Images/Vqa_Background_L3_Lion_Dinosaur_opposite.blend\n",
    "\n",
    "###### Odd number questions\n",
    "- What dairy that both the lion and dinasour on the table can see. 0-500\n",
    "- Odd number 500 images have the background of lion and dinosaur are facing each other. 0-499, 1000-1499\n",
    "\n",
    "- add ' in the front of the lion on the table'\n",
    "- add ' in the front of the dinosaur on the talbe'\n",
    "- add ' in the front of the lion not on the shelf'\n",
    "- add ' in the front of the dinosaur not on the shelf'\n",
    "- add ' in the area of the dinosaur facing'\n",
    "- add ' further to the right than the middle object in the image but in the front of dinosaur'\n",
    "- add ' further from the back shelf than the lion on the table but not the one behind the dinosaur' \n",
    "- add ' on the front edge of the table and is visible to the dinosaur '\n",
    "\n",
    "###### Even number questions\n",
    "- What dairy that or the lion can see or the dinasour on the table can see?\n",
    "- Even number 500 images have the background of lion and dinosaur are opposite each other. 500-999, 1500-1999\n",
    "\n",
    "- add ' in the image either the lion or the dinosaur not on the shelf can see '\n",
    "- add ' in the image visible to either the lion or the dinosuar on the table '\n",
    "- add ' further to the right than the middle object in the image but not behind the lion or the dinosaur on the table' \n",
    "- add ' further to the right than the middle object in the image and in front of the lion or the dinosaur on the table' \n",
    "- add ' on the front edge of the table and is visible to the dinosaur or the lion on the table' \n",
    "- add ' within the field of vision of either the lion or the dinosaur' \n",
    "- add ' , situated to the right and in front of the dinosaur on the table from the dinosuar's perspective, but not behind the lion,' \n",
    "\n"
   ]
  },
  {
   "cell_type": "code",
   "execution_count": 3,
   "id": "4362dd5a",
   "metadata": {
    "hidden": true
   },
   "outputs": [
    {
     "name": "stdout",
     "output_type": "stream",
     "text": [
      "(10027, 17)\n"
     ]
    }
   ],
   "source": [
    "l3_ques_dairy_t1_visible = pd.read_csv(\"/home/jingying/git_paper_1/diverse_questions/lr_questions_rose/questions_l3_Dairy/l3_ques_dairy_t1_visible_full.csv\")\n",
    "l3_dairy_t1_col = l3_ques_dairy_t1_visible[['questions', 'fa', 'answers', 'ground_truth_ans', 'spatial_exclude_ans', 'right_side_object', 'left_side_object', 'middle_object']]\n",
    "print(l3_ques_dairy_t1_visible.shape)"
   ]
  },
  {
   "cell_type": "code",
   "execution_count": 24,
   "id": "4de47309",
   "metadata": {
    "hidden": true
   },
   "outputs": [
    {
     "data": {
      "text/plain": [
       "(10027, 17)"
      ]
     },
     "execution_count": 24,
     "metadata": {},
     "output_type": "execute_result"
    }
   ],
   "source": [
    "# Add spatial information to odd 500 questions and even 500 questions. \n",
    "\n",
    "spatial_info_options_odd = [\n",
    "    ', both the lion and the dinosaur on the table can see,',\n",
    "    ', in the area of the dinosaur sitting on the table facing,',\n",
    "    ', on the front edge of the table and is visible to the dinosaur,',\n",
    "    ', further from the back shelf than the lion on the table but not the one behind the dinosaur,',\n",
    "    ', in the front of both the lion and dinosaur on the table,',\n",
    "    ', in the front of the dinosaur which is not sitting on the shelf,',\n",
    "    ', further to the right than the middle object in the image but in the front of dinosaur,',\n",
    "    ', not behind the toy lion and dinosaur on the table,'\n",
    "]\n",
    "\n",
    "\n",
    "spatial_info_options_even = [\n",
    "    ', either the lion or the dinosaur not on the shelf can see,',\n",
    "    ', visible to either the lion or the dinosaur on the table,',\n",
    "    ', further to the right than the middle object but not behind the lion or the dinosaur on the table,',\n",
    "    ', further to the right than the middle object and in front of the lion or the dinosaur on the table,',\n",
    "    ', on the front edge of the table and is visible to the dinosaur or the lion on the table,',\n",
    "    ', within the field of vision of either the lion or the dinosaur,',\n",
    "    ', situated to the right and in front of the dinosaur on the table from the dinosaur perspective, but not behind the lion,'\n",
    "]\n",
    "\n",
    "def insert_sentence(original_question, sentence):\n",
    "    if 'on the table' in original_question:\n",
    "        parts = original_question.split('on the table', 1)\n",
    "        return parts[0] + 'on the table' + sentence + parts[1]\n",
    "    elif 'in the image' in original_question:\n",
    "        parts = original_question.split('in the image', 1)\n",
    "        return parts[0] + 'in the image' + sentence + parts[1]\n",
    "    return original_question\n",
    "\n",
    "\n",
    "def modify_questions(df):\n",
    "    df['questions_spatial'] = df['questions']\n",
    "    for i in range(len(df)):\n",
    "        middle_object = df.at[i, 'middle_object']\n",
    "        \n",
    "        if i % 1000 < 500:  # For odd ranges like 0-500, 1000-1500, etc.\n",
    "            spatial_info_odd = [info.replace(\"middle object\", middle_object) for info in spatial_info_options_odd]\n",
    "            sentence_to_add = random.choice(spatial_info_odd)\n",
    "        else:  # For even ranges like 500-1000, 1500-2000, etc.\n",
    "            spatial_info_even = [info.replace(\"middle object\", middle_object) for info in spatial_info_options_even]\n",
    "            sentence_to_add = random.choice(spatial_info_even)\n",
    "            \n",
    "            \n",
    "        df.at[i, 'questions_spatial'] = insert_sentence(df.at[i, 'questions_spatial'], sentence_to_add)\n",
    "    \n",
    "    return df\n",
    "\n",
    "\n",
    "df = l3_ques_dairy_t1_visible\n",
    "l3_ques_dairy_t1_visible_full = modify_questions(df)\n",
    "l3_ques_dairy_t1_visible_full.to_csv(\"/home/jingying/git_paper_1/diverse_questions/lr_questions_rose/questions_l3_Dairy/l3_ques_dairy_t1_visible_full.csv\")\n",
    "l3_ques_dairy_t1_visible_full.shape"
   ]
  },
  {
   "cell_type": "code",
   "execution_count": null,
   "id": "4948ef02",
   "metadata": {
    "hidden": true
   },
   "outputs": [],
   "source": []
  },
  {
   "cell_type": "markdown",
   "id": "97231a38",
   "metadata": {
    "heading_collapsed": true
   },
   "source": [
    "### Check Blender Images T1 \n",
    "\n",
    "- odd @gao\n",
    "- even @v1"
   ]
  },
  {
   "cell_type": "code",
   "execution_count": 2,
   "id": "93900987",
   "metadata": {
    "hidden": true
   },
   "outputs": [
    {
     "name": "stdout",
     "output_type": "stream",
     "text": [
      "(10027, 16)\n",
      "(10027, 4)\n"
     ]
    }
   ],
   "source": [
    "l3_ques_dairy_t1_visible = pd.read_csv(\"/home/jingying/git_paper_1/diverse_questions/lr_questions_rose/questions_l3_Dairy/l3_ques_dairy_t1_visible_full.csv\")\n",
    "l3_dairy_t1_col = l3_ques_dairy_t1_visible[['questions', 'questions_spatial', 'fa', 'answers', 'ground_truth_ans', 'spatial_exclude_ans', 'right_side_object', 'left_side_object', 'middle_object']]\n",
    "blend_df_dairy_t1 = pd.read_csv(\"/home/jingying/git_paper_1/diverse_questions/lr_questions_rose/questions_l3_Dairy/l3_ques_dairy_t1_blend.csv\")\n",
    "print(l3_ques_dairy_t1_visible.shape)\n",
    "print(blend_df_dairy_t1.shape)"
   ]
  },
  {
   "cell_type": "code",
   "execution_count": 3,
   "id": "d2b14863",
   "metadata": {
    "hidden": true
   },
   "outputs": [
    {
     "data": {
      "text/html": [
       "<div>\n",
       "<style scoped>\n",
       "    .dataframe tbody tr th:only-of-type {\n",
       "        vertical-align: middle;\n",
       "    }\n",
       "\n",
       "    .dataframe tbody tr th {\n",
       "        vertical-align: top;\n",
       "    }\n",
       "\n",
       "    .dataframe thead th {\n",
       "        text-align: right;\n",
       "    }\n",
       "</style>\n",
       "<table border=\"1\" class=\"dataframe\">\n",
       "  <thead>\n",
       "    <tr style=\"text-align: right;\">\n",
       "      <th></th>\n",
       "      <th>questions</th>\n",
       "      <th>questions_spatial</th>\n",
       "      <th>fa</th>\n",
       "      <th>answers</th>\n",
       "      <th>ground_truth_ans</th>\n",
       "      <th>spatial_exclude_ans</th>\n",
       "      <th>right_side_object</th>\n",
       "      <th>left_side_object</th>\n",
       "      <th>middle_object</th>\n",
       "    </tr>\n",
       "  </thead>\n",
       "  <tbody>\n",
       "    <tr>\n",
       "      <th>9500</th>\n",
       "      <td>Which dairy on the table is nutritious with water or does not have a taste of grassy or  does not show the color brown?</td>\n",
       "      <td>Which dairy and poultry on the table, on the front edge of the table and is visible to the dinosaur or the lion on the table, is nutritious with water or does not have a taste of grassy or  does not show the color brown?</td>\n",
       "      <td>cheese, yogurt, milk, egg</td>\n",
       "      <td>cheese, yogurt, milk, egg</td>\n",
       "      <td>egg, yogurt</td>\n",
       "      <td>cheese, milk</td>\n",
       "      <td>yogurt, egg, pumpkin, lettuce, bottle</td>\n",
       "      <td>milk, cheese, pumpkin, lettuce, bottle</td>\n",
       "      <td>egg</td>\n",
       "    </tr>\n",
       "  </tbody>\n",
       "</table>\n",
       "</div>"
      ],
      "text/plain": [
       "                                                                                                                    questions  \\\n",
       "9500  Which dairy on the table is nutritious with water or does not have a taste of grassy or  does not show the color brown?   \n",
       "\n",
       "                                                                                                                                                                                                                 questions_spatial  \\\n",
       "9500  Which dairy and poultry on the table, on the front edge of the table and is visible to the dinosaur or the lion on the table, is nutritious with water or does not have a taste of grassy or  does not show the color brown?   \n",
       "\n",
       "                             fa                    answers ground_truth_ans  \\\n",
       "9500  cheese, yogurt, milk, egg  cheese, yogurt, milk, egg      egg, yogurt   \n",
       "\n",
       "     spatial_exclude_ans                      right_side_object  \\\n",
       "9500        cheese, milk  yogurt, egg, pumpkin, lettuce, bottle   \n",
       "\n",
       "                            left_side_object middle_object  \n",
       "9500  milk, cheese, pumpkin, lettuce, bottle           egg  "
      ]
     },
     "execution_count": 3,
     "metadata": {},
     "output_type": "execute_result"
    }
   ],
   "source": [
    "l3_dairy_t1_col[9500:9501]"
   ]
  },
  {
   "cell_type": "code",
   "execution_count": null,
   "id": "0c8ef3c4",
   "metadata": {
    "hidden": true
   },
   "outputs": [],
   "source": []
  },
  {
   "cell_type": "markdown",
   "id": "28a2fd00",
   "metadata": {},
   "source": [
    "## Change 'Which dairy' to 'Which dairy and poultry'\n",
    "\n",
    "- Change questions name from 'what dairy' to 'what dairy and poultry items but not the one on the closest to the window' because egg is not dairy, it is poultry. \n",
    "- We have meat but this meat is not poultry, it is not chicken. \n",
    "\n",
    "- Have done manually from downloaded .csv, then upload and update again. "
   ]
  },
  {
   "cell_type": "code",
   "execution_count": 7,
   "id": "ca5a30f4",
   "metadata": {},
   "outputs": [
    {
     "name": "stdout",
     "output_type": "stream",
     "text": [
      "(10027, 16)\n"
     ]
    }
   ],
   "source": [
    "l3_ques_dairy_t1_visible = pd.read_csv(\"/home/jingying/git_paper_1/diverse_questions/lr_questions_rose/questions_l3_Dairy/l3_ques_dairy_t1_visible_full.csv\")\n",
    "l3_dairy_t1_col = l3_ques_dairy_t1_visible[['questions_spatial', 'fa', 'answers', 'ground_truth_ans', 'spatial_exclude_ans', 'right_side_object', 'left_side_object', 'middle_object']]\n",
    "print(l3_ques_dairy_t1_visible.shape)"
   ]
  },
  {
   "cell_type": "code",
   "execution_count": 8,
   "id": "5a88bda7",
   "metadata": {},
   "outputs": [
    {
     "data": {
      "text/html": [
       "<div>\n",
       "<style scoped>\n",
       "    .dataframe tbody tr th:only-of-type {\n",
       "        vertical-align: middle;\n",
       "    }\n",
       "\n",
       "    .dataframe tbody tr th {\n",
       "        vertical-align: top;\n",
       "    }\n",
       "\n",
       "    .dataframe thead th {\n",
       "        text-align: right;\n",
       "    }\n",
       "</style>\n",
       "<table border=\"1\" class=\"dataframe\">\n",
       "  <thead>\n",
       "    <tr style=\"text-align: right;\">\n",
       "      <th></th>\n",
       "      <th>questions_spatial</th>\n",
       "      <th>fa</th>\n",
       "      <th>answers</th>\n",
       "      <th>ground_truth_ans</th>\n",
       "      <th>spatial_exclude_ans</th>\n",
       "      <th>right_side_object</th>\n",
       "      <th>left_side_object</th>\n",
       "      <th>middle_object</th>\n",
       "    </tr>\n",
       "  </thead>\n",
       "  <tbody>\n",
       "    <tr>\n",
       "      <th>0</th>\n",
       "      <td>Which dairy and poultry in the image, both the lion and the dinosaur on the table can see, has a taste of bitter or is not colored green or contains nutrition fat?</td>\n",
       "      <td>milk, egg, cheese, yogurt</td>\n",
       "      <td>milk, egg, cheese, yogurt</td>\n",
       "      <td>milk, cheese</td>\n",
       "      <td>yogurt, egg</td>\n",
       "      <td>milk, cheese, mushroom, asparagus, onion</td>\n",
       "      <td>egg, yogurt, mushroom, asparagus, onion</td>\n",
       "      <td>candy</td>\n",
       "    </tr>\n",
       "  </tbody>\n",
       "</table>\n",
       "</div>"
      ],
      "text/plain": [
       "                                                                                                                                                     questions_spatial  \\\n",
       "0  Which dairy and poultry in the image, both the lion and the dinosaur on the table can see, has a taste of bitter or is not colored green or contains nutrition fat?   \n",
       "\n",
       "                          fa                    answers ground_truth_ans  \\\n",
       "0  milk, egg, cheese, yogurt  milk, egg, cheese, yogurt     milk, cheese   \n",
       "\n",
       "  spatial_exclude_ans                         right_side_object  \\\n",
       "0         yogurt, egg  milk, cheese, mushroom, asparagus, onion   \n",
       "\n",
       "                          left_side_object middle_object  \n",
       "0  egg, yogurt, mushroom, asparagus, onion         candy  "
      ]
     },
     "execution_count": 8,
     "metadata": {},
     "output_type": "execute_result"
    }
   ],
   "source": [
    "l3_dairy_t1_col[:1]"
   ]
  },
  {
   "cell_type": "markdown",
   "id": "86cd8cd8",
   "metadata": {},
   "source": [
    "The above is the base questions."
   ]
  },
  {
   "cell_type": "markdown",
   "id": "95339343",
   "metadata": {},
   "source": [
    "## Diverse Questions Logic_3_Dairy_T1"
   ]
  },
  {
   "cell_type": "markdown",
   "id": "723e236b",
   "metadata": {
    "heading_collapsed": true
   },
   "source": [
    "### Load Diverse Logic_3_Dairy_T1 Source file"
   ]
  },
  {
   "cell_type": "code",
   "execution_count": 55,
   "id": "d2ad5d61",
   "metadata": {
    "hidden": true
   },
   "outputs": [
    {
     "name": "stdout",
     "output_type": "stream",
     "text": [
      "(20832, 9)\n"
     ]
    }
   ],
   "source": [
    "base_path = \"/home/jingying/git_paper_1/diverse_questions/lr_questions_rose/questions_diverse/\"\n",
    "file_name = \"diverse_question_dairy_1.csv\"\n",
    "diverse_l3_dairy_t1 = pd.read_csv(base_path + file_name)\n",
    "print(diverse_l3_dairy_t1.shape)"
   ]
  },
  {
   "cell_type": "code",
   "execution_count": 6,
   "id": "90642cb7",
   "metadata": {
    "hidden": true
   },
   "outputs": [
    {
     "data": {
      "text/html": [
       "<div>\n",
       "<style scoped>\n",
       "    .dataframe tbody tr th:only-of-type {\n",
       "        vertical-align: middle;\n",
       "    }\n",
       "\n",
       "    .dataframe tbody tr th {\n",
       "        vertical-align: top;\n",
       "    }\n",
       "\n",
       "    .dataframe thead th {\n",
       "        text-align: right;\n",
       "    }\n",
       "</style>\n",
       "<table border=\"1\" class=\"dataframe\">\n",
       "  <thead>\n",
       "    <tr style=\"text-align: right;\">\n",
       "      <th></th>\n",
       "      <th>Question</th>\n",
       "      <th>questions_diverse</th>\n",
       "      <th>a1</th>\n",
       "      <th>a2</th>\n",
       "      <th>a3</th>\n",
       "      <th>fa</th>\n",
       "      <th>logical_operator</th>\n",
       "      <th>logical_level</th>\n",
       "      <th>logical_types</th>\n",
       "    </tr>\n",
       "  </thead>\n",
       "  <tbody>\n",
       "    <tr>\n",
       "      <th>0</th>\n",
       "      <td>Which dairy has_taste bitter and not has_color green and not has_nutrition protein?</td>\n",
       "      <td>How many dairy items on the table hold a flavor of bitter and do not show the color green and do not have nutritional content of protein?</td>\n",
       "      <td>[]</td>\n",
       "      <td>['egg', 'yoghurt', 'cheese', 'milk']</td>\n",
       "      <td>[]</td>\n",
       "      <td>None</td>\n",
       "      <td>and, not</td>\n",
       "      <td>level 3</td>\n",
       "      <td>conjunction, negation</td>\n",
       "    </tr>\n",
       "  </tbody>\n",
       "</table>\n",
       "</div>"
      ],
      "text/plain": [
       "                                                                              Question  \\\n",
       "0  Which dairy has_taste bitter and not has_color green and not has_nutrition protein?   \n",
       "\n",
       "                                                                                                                           questions_diverse  \\\n",
       "0  How many dairy items on the table hold a flavor of bitter and do not show the color green and do not have nutritional content of protein?   \n",
       "\n",
       "   a1                                    a2  a3    fa logical_operator  \\\n",
       "0  []  ['egg', 'yoghurt', 'cheese', 'milk']  []  None         and, not   \n",
       "\n",
       "  logical_level          logical_types  \n",
       "0       level 3  conjunction, negation  "
      ]
     },
     "execution_count": 6,
     "metadata": {},
     "output_type": "execute_result"
    }
   ],
   "source": [
    "diverse_l3_dairy_t1[:1]"
   ]
  },
  {
   "cell_type": "code",
   "execution_count": 8,
   "id": "a4b0d479",
   "metadata": {
    "hidden": true
   },
   "outputs": [
    {
     "name": "stdout",
     "output_type": "stream",
     "text": [
      "(20832, 9)\n",
      "(7752, 9)\n",
      "(6249, 9)\n",
      "(2916, 9)\n"
     ]
    }
   ],
   "source": [
    "## Group different types of questions | Logic2_Veg\n",
    "df_l3 = diverse_l3_dairy_t1\n",
    "print(df_l3.shape)\n",
    "\n",
    "df_l3_howmany = df_l3[df_l3['questions_diverse'].str.contains('how many', case=False, na=False)]\n",
    "df_l3_exist = df_l3[df_l3['questions_diverse'].str.contains('are there|is there', case=False, na=False, regex=True)]\n",
    "df_l3_universal = df_l3[df_l3['questions_diverse'].str.contains('do all|for all', case=False, na=False, regex=True)]\n",
    "\n",
    "print(df_l3_howmany.shape)\n",
    "print(df_l3_exist.shape)\n",
    "print(df_l3_universal.shape)"
   ]
  },
  {
   "cell_type": "code",
   "execution_count": 56,
   "id": "b29999dd",
   "metadata": {
    "hidden": true
   },
   "outputs": [
    {
     "name": "stdout",
     "output_type": "stream",
     "text": [
      "(10027, 9)\n",
      "(10805, 9)\n"
     ]
    }
   ],
   "source": [
    "# Filter Allergy Fruit where 'fa' is not 'None'\n",
    "diverse_l3_dairy_t1_values = diverse_l3_dairy_t1[diverse_l3_dairy_t1['fa'] != 'None']\n",
    "diverse_l3_dairy_t1_none = diverse_l3_dairy_t1[diverse_l3_dairy_t1['fa'] == 'None']\n",
    "\n",
    "print(diverse_l3_dairy_t1_values.shape)\n",
    "print(diverse_l3_dairy_t1_none.shape)"
   ]
  },
  {
   "cell_type": "code",
   "execution_count": 22,
   "id": "10e6c440",
   "metadata": {
    "hidden": true
   },
   "outputs": [],
   "source": [
    "diverse_l3_dairy_t1_values.to_csv(\"/home/jingying/git_paper_1/diverse_questions/lr_questions_rose/questions_diverse/diverse_question_dairy_1_values.csv\", index=False)"
   ]
  },
  {
   "cell_type": "markdown",
   "id": "60f2fffe",
   "metadata": {},
   "source": [
    "### Read Diverse_Logic_3_Dairy_T1_Visible_Full"
   ]
  },
  {
   "cell_type": "code",
   "execution_count": 72,
   "id": "f8c533ea",
   "metadata": {},
   "outputs": [
    {
     "name": "stdout",
     "output_type": "stream",
     "text": [
      "(10027, 17)\n"
     ]
    }
   ],
   "source": [
    "base_path = \"/home/jingying/git_paper_1/diverse_questions/lr_questions_rose/questions_l3_Dairy/\"\n",
    "diverse_l3_dairy_t1_visible = pd.read_csv(base_path + \"diverse_l3_ques_dairy_t1_visible_full.csv\")\n",
    "print(diverse_l3_dairy_t1_visible.shape)"
   ]
  },
  {
   "cell_type": "code",
   "execution_count": 73,
   "id": "0dd083d3",
   "metadata": {},
   "outputs": [
    {
     "data": {
      "text/html": [
       "<div>\n",
       "<style scoped>\n",
       "    .dataframe tbody tr th:only-of-type {\n",
       "        vertical-align: middle;\n",
       "    }\n",
       "\n",
       "    .dataframe tbody tr th {\n",
       "        vertical-align: top;\n",
       "    }\n",
       "\n",
       "    .dataframe thead th {\n",
       "        text-align: right;\n",
       "    }\n",
       "</style>\n",
       "<table border=\"1\" class=\"dataframe\">\n",
       "  <thead>\n",
       "    <tr style=\"text-align: right;\">\n",
       "      <th></th>\n",
       "      <th>Unnamed: 0</th>\n",
       "      <th>questions</th>\n",
       "      <th>questions_diverse</th>\n",
       "      <th>a1</th>\n",
       "      <th>a2</th>\n",
       "      <th>a3</th>\n",
       "      <th>fa</th>\n",
       "      <th>logical_operator</th>\n",
       "      <th>logical_level</th>\n",
       "      <th>logical_types</th>\n",
       "      <th>answers</th>\n",
       "      <th>ground_truth_ans</th>\n",
       "      <th>spatial_exclude_ans</th>\n",
       "      <th>right_side_object</th>\n",
       "      <th>left_side_object</th>\n",
       "      <th>middle_object</th>\n",
       "      <th>questions_spatial</th>\n",
       "    </tr>\n",
       "  </thead>\n",
       "  <tbody>\n",
       "    <tr>\n",
       "      <th>0</th>\n",
       "      <td>0</td>\n",
       "      <td>Which dairy in the image has a taste of bitter or is not colored green or contains nutrition fat?</td>\n",
       "      <td>Is there any dairy in the image has a taste of bitter or is not colored green or contains nutrition fat?</td>\n",
       "      <td>[]</td>\n",
       "      <td>['egg', 'yoghurt', 'cheese', 'milk']</td>\n",
       "      <td>['yoghurt', 'cheese', 'milk']</td>\n",
       "      <td>milk, egg, cheese, yogurt</td>\n",
       "      <td>or, not</td>\n",
       "      <td>level 3</td>\n",
       "      <td>disjunction, negation</td>\n",
       "      <td>milk, egg, cheese, yogurt</td>\n",
       "      <td>milk, cheese</td>\n",
       "      <td>yogurt, egg</td>\n",
       "      <td>milk, cheese, mushroom, asparagus, onion</td>\n",
       "      <td>egg, yogurt, mushroom, asparagus, onion</td>\n",
       "      <td>candy</td>\n",
       "      <td>Is there any poultry in the image, on the front edge of the table and is visible to the dinosaur, has a taste of bitter or is not colored green or contains nutrition fat?</td>\n",
       "    </tr>\n",
       "  </tbody>\n",
       "</table>\n",
       "</div>"
      ],
      "text/plain": [
       "   Unnamed: 0  \\\n",
       "0           0   \n",
       "\n",
       "                                                                                           questions  \\\n",
       "0  Which dairy in the image has a taste of bitter or is not colored green or contains nutrition fat?   \n",
       "\n",
       "                                                                                          questions_diverse  \\\n",
       "0  Is there any dairy in the image has a taste of bitter or is not colored green or contains nutrition fat?   \n",
       "\n",
       "   a1                                    a2                             a3  \\\n",
       "0  []  ['egg', 'yoghurt', 'cheese', 'milk']  ['yoghurt', 'cheese', 'milk']   \n",
       "\n",
       "                          fa logical_operator logical_level  \\\n",
       "0  milk, egg, cheese, yogurt          or, not       level 3   \n",
       "\n",
       "           logical_types                    answers ground_truth_ans  \\\n",
       "0  disjunction, negation  milk, egg, cheese, yogurt     milk, cheese   \n",
       "\n",
       "  spatial_exclude_ans                         right_side_object  \\\n",
       "0         yogurt, egg  milk, cheese, mushroom, asparagus, onion   \n",
       "\n",
       "                          left_side_object middle_object  \\\n",
       "0  egg, yogurt, mushroom, asparagus, onion         candy   \n",
       "\n",
       "                                                                                                                                                            questions_spatial  \n",
       "0  Is there any poultry in the image, on the front edge of the table and is visible to the dinosaur, has a taste of bitter or is not colored green or contains nutrition fat?  "
      ]
     },
     "execution_count": 73,
     "metadata": {},
     "output_type": "execute_result"
    }
   ],
   "source": [
    "diverse_l3_dairy_t1_visible[:1]"
   ]
  },
  {
   "cell_type": "code",
   "execution_count": 74,
   "id": "455e8382",
   "metadata": {},
   "outputs": [
    {
     "name": "stdout",
     "output_type": "stream",
     "text": [
      "(10027, 17)\n",
      "(0, 17)\n"
     ]
    }
   ],
   "source": [
    "# Filter Allergy Fruit where 'fa' is not 'None'\n",
    "diverse_l3_dairy_t1_visible_values = diverse_l3_dairy_t1_visible[diverse_l3_dairy_t1_visible['fa'] != 'None']\n",
    "diverse_l3_dairy_t1_visible_none = diverse_l3_dairy_t1_visible[diverse_l3_dairy_t1_visible['fa'] == 'None']\n",
    "\n",
    "print(diverse_l3_dairy_t1_visible_values.shape)\n",
    "print(diverse_l3_dairy_t1_visible_none.shape)"
   ]
  },
  {
   "cell_type": "markdown",
   "id": "d91d6d02",
   "metadata": {
    "heading_collapsed": true
   },
   "source": [
    "### Manually Change the Questions\n",
    "\n",
    "Manually changed the questions from .csv file\n",
    "\n",
    "1. **Dairy - Dairy and poultry**: Change Dairy to dairy and poultry\n",
    "\n",
    "2. **Identify the**: Change Identify the, the diverse questions which did not changed to Do all\n",
    "\n",
    "3. **Is there**: Change Is there any dairy and poultry to Is there any poultry\n",
    "\n",
    "4. **Do all**: Function to change Do all dairy and poulty questions restructure it. \n",
    "\n",
    "5. **middle_object**: Copy the questions_diverse to the base questions. "
   ]
  },
  {
   "cell_type": "code",
   "execution_count": 75,
   "id": "aa775442",
   "metadata": {
    "hidden": true
   },
   "outputs": [],
   "source": [
    "# Function to change Do all dairy and poulty questions restructure it. \n",
    "\n",
    "\n",
    "def restructure_question(question):\n",
    "    if 'Do all' in question:\n",
    "        question = question.replace('?', '')\n",
    "        parts = question.split(',', 2)\n",
    "        if len(parts) < 3:\n",
    "            return question + '?'\n",
    "\n",
    "        # Reconstructing the question\n",
    "        new_question = parts[0] + ', ' + parts[2].strip() + ', are ' + parts[1].strip() + '?'\n",
    "\n",
    "        return new_question\n",
    "    return question\n",
    "\n",
    "\n",
    "df = diverse_l3_dairy_t1_visible\n",
    "df['questions_spatial'] = df['questions_spatial'].apply(restructure_question)\n",
    "df.to_csv(\"/home/jingying/git_paper_1/diverse_questions/lr_questions_rose/questions_l3_Dairy/diverse_l3_ques_dairy_t1_visible_full.csv\", index=False)"
   ]
  },
  {
   "cell_type": "markdown",
   "id": "d8ab3368",
   "metadata": {
    "heading_collapsed": true
   },
   "source": [
    "### Add Spatial Info to Diverse questions - Logic_3_Dairy_Poultry_T1"
   ]
  },
  {
   "cell_type": "code",
   "execution_count": 59,
   "id": "ada66771",
   "metadata": {
    "hidden": true
   },
   "outputs": [
    {
     "data": {
      "text/plain": [
       "(10027, 17)"
      ]
     },
     "execution_count": 59,
     "metadata": {},
     "output_type": "execute_result"
    }
   ],
   "source": [
    "# Add spatial information to odd 500 questions and even 500 questions. \n",
    "\n",
    "spatial_info_options_odd = [\n",
    "    ', both the lion and the dinosaur on the table can see,',\n",
    "    ', in the area of the dinosaur sitting on the table facing,',\n",
    "    ', on the front edge of the table and is visible to the dinosaur,',\n",
    "    ', further from the back shelf than the lion on the table but not the one behind the dinosaur,',\n",
    "    ', in the front of both the lion and dinosaur on the table,',\n",
    "    ', in the front of the dinosaur which is not sitting on the shelf,',\n",
    "    ', further to the right than the middle object in the image but in the front of dinosaur,',\n",
    "    ', not behind the toy lion and dinosaur on the table,'\n",
    "]\n",
    "\n",
    "\n",
    "spatial_info_options_even = [\n",
    "    ', either the lion or the dinosaur not on the shelf can see,',\n",
    "    ', visible to either the lion or the dinosaur on the table,',\n",
    "    ', further to the right than the middle object but not behind the lion or the dinosaur on the table,',\n",
    "    ', further to the right than the middle object and in front of the lion or the dinosaur on the table,',\n",
    "    ', on the front edge of the table and is visible to the dinosaur or the lion on the table,',\n",
    "    ', within the field of vision of either the lion or the dinosaur,',\n",
    "    ', situated to the right and in front of the dinosaur on the table from the dinosaur perspective but not behind the lion,'\n",
    "]\n",
    "\n",
    "def insert_sentence(original_question, sentence):\n",
    "    if 'on the table' in original_question:\n",
    "        parts = original_question.split('on the table', 1)\n",
    "        return parts[0] + 'on the table' + sentence + parts[1]\n",
    "    elif 'in the image' in original_question:\n",
    "        parts = original_question.split('in the image', 1)\n",
    "        return parts[0] + 'in the image' + sentence + parts[1]\n",
    "    return original_question\n",
    "\n",
    "\n",
    "def modify_questions(df):\n",
    "    df['questions_spatial'] = df['questions_diverse']\n",
    "    for i in range(len(df)):\n",
    "        middle_object = df.at[i, 'middle_object']\n",
    "        \n",
    "        if i % 1000 < 500:  # For odd ranges like 0-500, 1000-1500, etc.\n",
    "            spatial_info_odd = [info.replace(\"middle object\", middle_object) for info in spatial_info_options_odd]\n",
    "            sentence_to_add = random.choice(spatial_info_odd)\n",
    "        else:  # For even ranges like 500-1000, 1500-2000, etc.\n",
    "            spatial_info_even = [info.replace(\"middle object\", middle_object) for info in spatial_info_options_even]\n",
    "            sentence_to_add = random.choice(spatial_info_even)\n",
    "            \n",
    "            \n",
    "        df.at[i, 'questions_spatial'] = insert_sentence(df.at[i, 'questions_spatial'], sentence_to_add)\n",
    "    \n",
    "    return df\n",
    "\n",
    "\n",
    "df = diverse_l3_dairy_t1_visible\n",
    "diverse_l3_dairy_t1_visible_full = modify_questions(df)\n",
    "diverse_l3_dairy_t1_visible_full.to_csv(\"/home/jingying/git_paper_1/diverse_questions/lr_questions_rose/questions_l3_Dairy/diverse_l3_ques_dairy_t1_visible_full.csv\", index=False)\n",
    "diverse_l3_dairy_t1_visible_full.shape"
   ]
  },
  {
   "cell_type": "markdown",
   "id": "186d2076",
   "metadata": {},
   "source": [
    "### Generate diverse answers \n",
    "\n",
    "Key rules to generate diverse answers:\n",
    "\n",
    "1. **Count Questions**: If a question in the 'questions' column contains \"how many\", count the number of items in the 'ground_truth_ans' column and store the count as a word in the new 'ans_diverse' column.\n",
    "\n",
    "2. **Existence Questions**: For questions containing \"Are there\", add 'yes' to 'ans_diverse' if the 'ground_truth_ans' column include egg value; add 'no' in all other cases. \n",
    "\n",
    "3. **Universal Questions**: For questions containing \"Do all\", If spatial_exclude_ans is NaN, add 'yes' to 'ans_diverse'; otherwise, add 'no' to 'ans_diverse'.\n"
   ]
  },
  {
   "cell_type": "markdown",
   "id": "05491d05",
   "metadata": {},
   "source": [
    "#### Function to generate diverse answers"
   ]
  },
  {
   "cell_type": "code",
   "execution_count": 94,
   "id": "74993c6f",
   "metadata": {},
   "outputs": [
    {
     "name": "stdout",
     "output_type": "stream",
     "text": [
      "(10027, 18)\n"
     ]
    }
   ],
   "source": [
    "# Function to generate ground_truth_ans, For how many, exist, universal questions. \n",
    "\n",
    "def count_items(answer):\n",
    "    if answer == 'None' or pd.isna(answer):\n",
    "        return 'none'\n",
    "    return len(answer.split(', '))\n",
    "\n",
    "def exist_answer(answer):\n",
    "    return 'yes' if 'egg' in answer.split(', ') else 'no'\n",
    "\n",
    "def universal_answer(spatial_exclude_ans):\n",
    "    return 'no' if not pd.isna(spatial_exclude_ans) else 'yes'\n",
    "\n",
    "\n",
    "def generate_diverse_answer(row):\n",
    "    question = row['questions_spatial'].lower()\n",
    "    if 'how many' in question:\n",
    "        return count_items(row['ground_truth_ans'])\n",
    "    elif 'are there' in question or 'is there' in question:\n",
    "        return exist_answer(row['ground_truth_ans'])\n",
    "    return universal_answer(row['spatial_exclude_ans'])\n",
    "\n",
    "\n",
    "df_l3 = diverse_l3_dairy_t1_visible.copy()\n",
    "df_l3['ans_diverse'] = df_l3.apply(generate_diverse_answer, axis=1)\n",
    "df_l3.to_csv(\"/home/jingying/git_paper_1/diverse_questions/lr_questions_rose/questions_l3_Dairy/diverse_l3_ques_dairy_t1_visible_full.csv\", index=False)\n",
    "print(df_l3.shape)"
   ]
  },
  {
   "cell_type": "markdown",
   "id": "63fee070",
   "metadata": {},
   "source": [
    "### Check Results"
   ]
  },
  {
   "cell_type": "code",
   "execution_count": 95,
   "id": "027f7775",
   "metadata": {},
   "outputs": [
    {
     "name": "stdout",
     "output_type": "stream",
     "text": [
      "(10027, 18)\n",
      "(10027, 4)\n"
     ]
    }
   ],
   "source": [
    "base_path = \"/home/jingying/git_paper_1/diverse_questions/lr_questions_rose/questions_l3_Dairy/\"\n",
    "diverse_l3_dairy_t1_visible = pd.read_csv(base_path + \"diverse_l3_ques_dairy_t1_visible_full.csv\")\n",
    "diverse_l3_dairy_t1_col = diverse_l3_dairy_t1_visible[['questions_diverse', 'questions_spatial', 'answers', 'ground_truth_ans']]\n",
    "print(diverse_l3_dairy_t1_visible.shape)\n",
    "print(diverse_l3_dairy_t1_col.shape)"
   ]
  },
  {
   "cell_type": "code",
   "execution_count": 96,
   "id": "c5c6fb75",
   "metadata": {},
   "outputs": [
    {
     "name": "stdout",
     "output_type": "stream",
     "text": [
      "(10027, 18)\n",
      "(3737, 18)\n",
      "(2990, 18)\n",
      "(3300, 18)\n"
     ]
    }
   ],
   "source": [
    "## Group different types of questions | Logic3_Veg\n",
    "\n",
    "df_l3_visible = diverse_l3_dairy_t1_visible.copy()\n",
    "print(df_l3_visible.shape)\n",
    "\n",
    "df_l3_visible_howmany = df_l3_visible[df_l3_visible['questions_spatial'].str.contains('how many', case=False, na=False)]\n",
    "df_l3_visible_exist = df_l3_visible[df_l3_visible['questions_spatial'].str.contains('are there|is there', case=False, na=False, regex=True)]\n",
    "df_l3_visible_universal = df_l3_visible[df_l3_visible['questions_spatial'].str.contains('do all|for all', case=False, na=False, regex=True)]\n",
    "\n",
    "print(df_l3_visible_howmany.shape)\n",
    "print(df_l3_visible_exist.shape)\n",
    "print(df_l3_visible_universal.shape)"
   ]
  },
  {
   "cell_type": "code",
   "execution_count": 97,
   "id": "dd1f4f23",
   "metadata": {},
   "outputs": [
    {
     "data": {
      "text/html": [
       "<div>\n",
       "<style scoped>\n",
       "    .dataframe tbody tr th:only-of-type {\n",
       "        vertical-align: middle;\n",
       "    }\n",
       "\n",
       "    .dataframe tbody tr th {\n",
       "        vertical-align: top;\n",
       "    }\n",
       "\n",
       "    .dataframe thead th {\n",
       "        text-align: right;\n",
       "    }\n",
       "</style>\n",
       "<table border=\"1\" class=\"dataframe\">\n",
       "  <thead>\n",
       "    <tr style=\"text-align: right;\">\n",
       "      <th></th>\n",
       "      <th>Unnamed: 0</th>\n",
       "      <th>questions</th>\n",
       "      <th>questions_diverse</th>\n",
       "      <th>a1</th>\n",
       "      <th>a2</th>\n",
       "      <th>a3</th>\n",
       "      <th>fa</th>\n",
       "      <th>logical_operator</th>\n",
       "      <th>logical_level</th>\n",
       "      <th>logical_types</th>\n",
       "      <th>answers</th>\n",
       "      <th>ground_truth_ans</th>\n",
       "      <th>spatial_exclude_ans</th>\n",
       "      <th>right_side_object</th>\n",
       "      <th>left_side_object</th>\n",
       "      <th>middle_object</th>\n",
       "      <th>questions_spatial</th>\n",
       "      <th>ans_diverse</th>\n",
       "    </tr>\n",
       "  </thead>\n",
       "  <tbody>\n",
       "    <tr>\n",
       "      <th>2</th>\n",
       "      <td>2</td>\n",
       "      <td>Which dairy on the table tastes like bitter and  does not show the color green or  does not contain nutrition carotenoids?</td>\n",
       "      <td>How many dairy items on the table tastes like bitter and do not show the color green or do not contain nutrition carotenoids?</td>\n",
       "      <td>[]</td>\n",
       "      <td>['egg', 'yoghurt', 'cheese', 'milk']</td>\n",
       "      <td>['egg', 'yoghurt', 'cheese', 'milk']</td>\n",
       "      <td>milk, egg, cheese, yogurt</td>\n",
       "      <td>and, or, not</td>\n",
       "      <td>level 3</td>\n",
       "      <td>conjunction, disjunction, negation</td>\n",
       "      <td>milk, egg, cheese, yogurt</td>\n",
       "      <td>yogurt, milk</td>\n",
       "      <td>cheese, egg</td>\n",
       "      <td>milk, yogurt, tomato, capsicum, lime</td>\n",
       "      <td>cheese, egg, tomato, capsicum, lime</td>\n",
       "      <td>egg</td>\n",
       "      <td>How many dairy and poultry items on the table, both the lion and the dinosaur on the table can see, tastes like bitter and do not show the color green or do not contain nutrition carotenoids?</td>\n",
       "      <td>2</td>\n",
       "    </tr>\n",
       "  </tbody>\n",
       "</table>\n",
       "</div>"
      ],
      "text/plain": [
       "   Unnamed: 0  \\\n",
       "2           2   \n",
       "\n",
       "                                                                                                                    questions  \\\n",
       "2  Which dairy on the table tastes like bitter and  does not show the color green or  does not contain nutrition carotenoids?   \n",
       "\n",
       "                                                                                                               questions_diverse  \\\n",
       "2  How many dairy items on the table tastes like bitter and do not show the color green or do not contain nutrition carotenoids?   \n",
       "\n",
       "   a1                                    a2  \\\n",
       "2  []  ['egg', 'yoghurt', 'cheese', 'milk']   \n",
       "\n",
       "                                     a3                         fa  \\\n",
       "2  ['egg', 'yoghurt', 'cheese', 'milk']  milk, egg, cheese, yogurt   \n",
       "\n",
       "  logical_operator logical_level                       logical_types  \\\n",
       "2     and, or, not       level 3  conjunction, disjunction, negation   \n",
       "\n",
       "                     answers ground_truth_ans spatial_exclude_ans  \\\n",
       "2  milk, egg, cheese, yogurt     yogurt, milk         cheese, egg   \n",
       "\n",
       "                      right_side_object                     left_side_object  \\\n",
       "2  milk, yogurt, tomato, capsicum, lime  cheese, egg, tomato, capsicum, lime   \n",
       "\n",
       "  middle_object  \\\n",
       "2           egg   \n",
       "\n",
       "                                                                                                                                                                                 questions_spatial  \\\n",
       "2  How many dairy and poultry items on the table, both the lion and the dinosaur on the table can see, tastes like bitter and do not show the color green or do not contain nutrition carotenoids?   \n",
       "\n",
       "  ans_diverse  \n",
       "2           2  "
      ]
     },
     "execution_count": 97,
     "metadata": {},
     "output_type": "execute_result"
    }
   ],
   "source": [
    "df_l3_visible_howmany[:1]"
   ]
  },
  {
   "cell_type": "code",
   "execution_count": 98,
   "id": "b9de4f23",
   "metadata": {},
   "outputs": [
    {
     "data": {
      "text/html": [
       "<div>\n",
       "<style scoped>\n",
       "    .dataframe tbody tr th:only-of-type {\n",
       "        vertical-align: middle;\n",
       "    }\n",
       "\n",
       "    .dataframe tbody tr th {\n",
       "        vertical-align: top;\n",
       "    }\n",
       "\n",
       "    .dataframe thead th {\n",
       "        text-align: right;\n",
       "    }\n",
       "</style>\n",
       "<table border=\"1\" class=\"dataframe\">\n",
       "  <thead>\n",
       "    <tr style=\"text-align: right;\">\n",
       "      <th></th>\n",
       "      <th>Unnamed: 0</th>\n",
       "      <th>questions</th>\n",
       "      <th>questions_diverse</th>\n",
       "      <th>a1</th>\n",
       "      <th>a2</th>\n",
       "      <th>a3</th>\n",
       "      <th>fa</th>\n",
       "      <th>logical_operator</th>\n",
       "      <th>logical_level</th>\n",
       "      <th>logical_types</th>\n",
       "      <th>answers</th>\n",
       "      <th>ground_truth_ans</th>\n",
       "      <th>spatial_exclude_ans</th>\n",
       "      <th>right_side_object</th>\n",
       "      <th>left_side_object</th>\n",
       "      <th>middle_object</th>\n",
       "      <th>questions_spatial</th>\n",
       "      <th>ans_diverse</th>\n",
       "    </tr>\n",
       "  </thead>\n",
       "  <tbody>\n",
       "    <tr>\n",
       "      <th>0</th>\n",
       "      <td>0</td>\n",
       "      <td>Which dairy in the image has a taste of bitter or is not colored green or contains nutrition fat?</td>\n",
       "      <td>Is there any dairy in the image has a taste of bitter or is not colored green or contains nutrition fat?</td>\n",
       "      <td>[]</td>\n",
       "      <td>['egg', 'yoghurt', 'cheese', 'milk']</td>\n",
       "      <td>['yoghurt', 'cheese', 'milk']</td>\n",
       "      <td>milk, egg, cheese, yogurt</td>\n",
       "      <td>or, not</td>\n",
       "      <td>level 3</td>\n",
       "      <td>disjunction, negation</td>\n",
       "      <td>milk, egg, cheese, yogurt</td>\n",
       "      <td>milk, cheese</td>\n",
       "      <td>yogurt, egg</td>\n",
       "      <td>milk, cheese, mushroom, asparagus, onion</td>\n",
       "      <td>egg, yogurt, mushroom, asparagus, onion</td>\n",
       "      <td>candy</td>\n",
       "      <td>Is there any poultry in the image, on the front edge of the table and is visible to the dinosaur, has a taste of bitter or is not colored green or contains nutrition fat?</td>\n",
       "      <td>no</td>\n",
       "    </tr>\n",
       "  </tbody>\n",
       "</table>\n",
       "</div>"
      ],
      "text/plain": [
       "   Unnamed: 0  \\\n",
       "0           0   \n",
       "\n",
       "                                                                                           questions  \\\n",
       "0  Which dairy in the image has a taste of bitter or is not colored green or contains nutrition fat?   \n",
       "\n",
       "                                                                                          questions_diverse  \\\n",
       "0  Is there any dairy in the image has a taste of bitter or is not colored green or contains nutrition fat?   \n",
       "\n",
       "   a1                                    a2                             a3  \\\n",
       "0  []  ['egg', 'yoghurt', 'cheese', 'milk']  ['yoghurt', 'cheese', 'milk']   \n",
       "\n",
       "                          fa logical_operator logical_level  \\\n",
       "0  milk, egg, cheese, yogurt          or, not       level 3   \n",
       "\n",
       "           logical_types                    answers ground_truth_ans  \\\n",
       "0  disjunction, negation  milk, egg, cheese, yogurt     milk, cheese   \n",
       "\n",
       "  spatial_exclude_ans                         right_side_object  \\\n",
       "0         yogurt, egg  milk, cheese, mushroom, asparagus, onion   \n",
       "\n",
       "                          left_side_object middle_object  \\\n",
       "0  egg, yogurt, mushroom, asparagus, onion         candy   \n",
       "\n",
       "                                                                                                                                                            questions_spatial  \\\n",
       "0  Is there any poultry in the image, on the front edge of the table and is visible to the dinosaur, has a taste of bitter or is not colored green or contains nutrition fat?   \n",
       "\n",
       "  ans_diverse  \n",
       "0          no  "
      ]
     },
     "execution_count": 98,
     "metadata": {},
     "output_type": "execute_result"
    }
   ],
   "source": [
    "df_l3_visible_exist[:1]"
   ]
  },
  {
   "cell_type": "code",
   "execution_count": 99,
   "id": "af270397",
   "metadata": {},
   "outputs": [
    {
     "data": {
      "text/html": [
       "<div>\n",
       "<style scoped>\n",
       "    .dataframe tbody tr th:only-of-type {\n",
       "        vertical-align: middle;\n",
       "    }\n",
       "\n",
       "    .dataframe tbody tr th {\n",
       "        vertical-align: top;\n",
       "    }\n",
       "\n",
       "    .dataframe thead th {\n",
       "        text-align: right;\n",
       "    }\n",
       "</style>\n",
       "<table border=\"1\" class=\"dataframe\">\n",
       "  <thead>\n",
       "    <tr style=\"text-align: right;\">\n",
       "      <th></th>\n",
       "      <th>Unnamed: 0</th>\n",
       "      <th>questions</th>\n",
       "      <th>questions_diverse</th>\n",
       "      <th>a1</th>\n",
       "      <th>a2</th>\n",
       "      <th>a3</th>\n",
       "      <th>fa</th>\n",
       "      <th>logical_operator</th>\n",
       "      <th>logical_level</th>\n",
       "      <th>logical_types</th>\n",
       "      <th>answers</th>\n",
       "      <th>ground_truth_ans</th>\n",
       "      <th>spatial_exclude_ans</th>\n",
       "      <th>right_side_object</th>\n",
       "      <th>left_side_object</th>\n",
       "      <th>middle_object</th>\n",
       "      <th>questions_spatial</th>\n",
       "      <th>ans_diverse</th>\n",
       "    </tr>\n",
       "  </thead>\n",
       "  <tbody>\n",
       "    <tr>\n",
       "      <th>1601</th>\n",
       "      <td>1601</td>\n",
       "      <td>Identify the dairy in the image that tastes like sweet or  does not contain nutrition carbs and  does not show the color yellow?</td>\n",
       "      <td>Identify the dairy in the image tastes like sweet or do not contain nutrition carbs and do not show the color yellow?</td>\n",
       "      <td>['yoghurt', 'milk']</td>\n",
       "      <td>['egg', 'yoghurt', 'cheese', 'milk']</td>\n",
       "      <td>['egg', 'yoghurt', 'milk']</td>\n",
       "      <td>milk, egg, yogurt</td>\n",
       "      <td>and, or, not</td>\n",
       "      <td>level 3</td>\n",
       "      <td>conjunction, disjunction, negation</td>\n",
       "      <td>milk, egg, yogurt</td>\n",
       "      <td>yogurt, egg</td>\n",
       "      <td>milk</td>\n",
       "      <td>egg, yogurt, banana, potato, carrot</td>\n",
       "      <td>milk, banana, potato, carrot, watermelon</td>\n",
       "      <td>candy</td>\n",
       "      <td>Do all dairy and poultry in the image, tastes like sweet or do not contain nutrition carbs and do not show the color yellow, are further to the right than the candy but not behind the lion or the dinosaur on the table?</td>\n",
       "      <td>no</td>\n",
       "    </tr>\n",
       "  </tbody>\n",
       "</table>\n",
       "</div>"
      ],
      "text/plain": [
       "      Unnamed: 0  \\\n",
       "1601        1601   \n",
       "\n",
       "                                                                                                                             questions  \\\n",
       "1601  Identify the dairy in the image that tastes like sweet or  does not contain nutrition carbs and  does not show the color yellow?   \n",
       "\n",
       "                                                                                                          questions_diverse  \\\n",
       "1601  Identify the dairy in the image tastes like sweet or do not contain nutrition carbs and do not show the color yellow?   \n",
       "\n",
       "                       a1                                    a2  \\\n",
       "1601  ['yoghurt', 'milk']  ['egg', 'yoghurt', 'cheese', 'milk']   \n",
       "\n",
       "                              a3                 fa logical_operator  \\\n",
       "1601  ['egg', 'yoghurt', 'milk']  milk, egg, yogurt     and, or, not   \n",
       "\n",
       "     logical_level                       logical_types            answers  \\\n",
       "1601       level 3  conjunction, disjunction, negation  milk, egg, yogurt   \n",
       "\n",
       "     ground_truth_ans spatial_exclude_ans  \\\n",
       "1601      yogurt, egg                milk   \n",
       "\n",
       "                        right_side_object  \\\n",
       "1601  egg, yogurt, banana, potato, carrot   \n",
       "\n",
       "                              left_side_object middle_object  \\\n",
       "1601  milk, banana, potato, carrot, watermelon         candy   \n",
       "\n",
       "                                                                                                                                                                                                               questions_spatial  \\\n",
       "1601  Do all dairy and poultry in the image, tastes like sweet or do not contain nutrition carbs and do not show the color yellow, are further to the right than the candy but not behind the lion or the dinosaur on the table?   \n",
       "\n",
       "     ans_diverse  \n",
       "1601          no  "
      ]
     },
     "execution_count": 99,
     "metadata": {},
     "output_type": "execute_result"
    }
   ],
   "source": [
    "df_l3_visible_universal[500:501]"
   ]
  },
  {
   "cell_type": "markdown",
   "id": "9907d8bc",
   "metadata": {
    "heading_collapsed": true
   },
   "source": [
    "#### Check diverse answers distribution"
   ]
  },
  {
   "cell_type": "code",
   "execution_count": 100,
   "id": "e58cc003",
   "metadata": {
    "hidden": true
   },
   "outputs": [
    {
     "name": "stdout",
     "output_type": "stream",
     "text": [
      "{'2': 2886, '1': 851}\n"
     ]
    }
   ],
   "source": [
    "def answers_distribution(df, column_name):\n",
    "    return df[column_name].value_counts().to_dict()\n",
    "\n",
    "howmany_answer_distribution = answers_distribution(df_l3_visible_howmany, 'ans_diverse')\n",
    "print(howmany_answer_distribution)"
   ]
  },
  {
   "cell_type": "code",
   "execution_count": 101,
   "id": "5ea9925d",
   "metadata": {
    "hidden": true
   },
   "outputs": [
    {
     "name": "stdout",
     "output_type": "stream",
     "text": [
      "{'no': 1715, 'yes': 1275}\n"
     ]
    }
   ],
   "source": [
    "def answers_distribution(df, column_name):\n",
    "    return df[column_name].value_counts().to_dict()\n",
    "\n",
    "exist_answer_distribution = answers_distribution(df_l3_visible_exist, 'ans_diverse')\n",
    "print(exist_answer_distribution)"
   ]
  },
  {
   "cell_type": "code",
   "execution_count": 102,
   "id": "84ce1808",
   "metadata": {
    "hidden": true
   },
   "outputs": [
    {
     "name": "stdout",
     "output_type": "stream",
     "text": [
      "{'no': 2803, 'yes': 497}\n"
     ]
    }
   ],
   "source": [
    "def answers_distribution(df, column_name):\n",
    "    return df[column_name].value_counts().to_dict()\n",
    "\n",
    "universal_answer_distribution = answers_distribution(df_l3_visible_universal, 'ans_diverse')\n",
    "print(universal_answer_distribution)"
   ]
  },
  {
   "cell_type": "markdown",
   "id": "557ca383",
   "metadata": {},
   "source": [
    "### Add more logical_operator and logical_types - ToDo"
   ]
  },
  {
   "cell_type": "markdown",
   "id": "0f99f688",
   "metadata": {},
   "source": [
    "The above is the diverse questions and answers."
   ]
  }
 ],
 "metadata": {
  "kernelspec": {
   "display_name": "py10",
   "language": "python",
   "name": "py10"
  },
  "language_info": {
   "codemirror_mode": {
    "name": "ipython",
    "version": 3
   },
   "file_extension": ".py",
   "mimetype": "text/x-python",
   "name": "python",
   "nbconvert_exporter": "python",
   "pygments_lexer": "ipython3",
   "version": "3.10.6"
  }
 },
 "nbformat": 4,
 "nbformat_minor": 5
}
